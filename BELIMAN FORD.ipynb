{
 "cells": [
  {
   "cell_type": "markdown",
   "id": "fb7951f7",
   "metadata": {},
   "source": [
    "# BELLIMAN FORD"
   ]
  },
  {
   "cell_type": "code",
   "execution_count": 12,
   "id": "e02b459b",
   "metadata": {},
   "outputs": [],
   "source": [
    "class Graph:\n",
    "    \n",
    "    def __init__(self,vertices):\n",
    "        self.V = vertices\n",
    "        self.graph = []\n",
    "        \n",
    "    def addEdge(self,u,v,w):\n",
    "        self.graph.append([u,v,w])\n",
    "        \n",
    "    def printArr(self,dist):\n",
    "        print(\"Vertex Distance from source\")\n",
    "        for i in range(self.V):\n",
    "            print(\"{0}\\t\\t{1}\".format(i, dist[i]))\n",
    "            \n",
    "            \n",
    "    def Bellmanford(self,src):\n",
    "        \n",
    "        \n",
    "        \n",
    "        dist =[float(\"inf\")] * self.V\n",
    "        dist[src] = 0\n",
    "        \n",
    "        for _ in range (self.V - 1):\n",
    "            \n",
    "            \n",
    "            for u,v,w in self.graph:\n",
    "                if dist[u] != float(\"inf\") and dist[u] + w < dist[v]:\n",
    "                    dist[v] = dist[u] + w\n",
    "                    \n",
    "                    \n",
    "                    \n",
    "            for u,v,w in self.graph:\n",
    "                if dist[u] != float (\"inf\") and dist[u] + w < dist[v]:\n",
    "                    print(\"Graph contain negative weight cycle\")\n",
    "                    return\n",
    "                \n",
    "        self.printArr(dist)\n",
    "            \n",
    "            \n",
    "            \n",
    "if __name__ == '__main__':\n",
    "    g = Graph(5)\n",
    "    g.addEdge(0, 1, -1)\n",
    "    g.addEdge(0, 2, 4)\n",
    "    g.addEdge(1, 2, 3)\n",
    "    g.addEdge(1, 3, 2)\n",
    "    g.addEdge(1, 4, 2)\n",
    "    g.addEdge(3, 2, 5)\n",
    "    g.addEdge(3, 1, 1)\n",
    "    g.addEdge(4, 3, -3)\n"
   ]
  },
  {
   "cell_type": "code",
   "execution_count": 13,
   "id": "5dbd47e4",
   "metadata": {},
   "outputs": [
    {
     "name": "stdout",
     "output_type": "stream",
     "text": [
      "Vertex Distance from source\n",
      "0\t\t0\n",
      "1\t\t-1\n",
      "2\t\t2\n",
      "3\t\t-2\n",
      "4\t\t1\n"
     ]
    }
   ],
   "source": [
    "g.Bellmanford(0)"
   ]
  },
  {
   "cell_type": "code",
   "execution_count": null,
   "id": "af657fdd",
   "metadata": {},
   "outputs": [],
   "source": [
    "T"
   ]
  },
  {
   "cell_type": "code",
   "execution_count": null,
   "id": "93736643",
   "metadata": {},
   "outputs": [],
   "source": []
  }
 ],
 "metadata": {
  "kernelspec": {
   "display_name": "Python 3 (ipykernel)",
   "language": "python",
   "name": "python3"
  },
  "language_info": {
   "codemirror_mode": {
    "name": "ipython",
    "version": 3
   },
   "file_extension": ".py",
   "mimetype": "text/x-python",
   "name": "python",
   "nbconvert_exporter": "python",
   "pygments_lexer": "ipython3",
   "version": "3.9.13"
  }
 },
 "nbformat": 4,
 "nbformat_minor": 5
}
