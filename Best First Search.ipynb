{
 "cells": [
  {
   "cell_type": "code",
   "execution_count": 1,
   "id": "ca092bcd",
   "metadata": {},
   "outputs": [
    {
     "ename": "SyntaxError",
     "evalue": "invalid syntax (3573493574.py, line 18)",
     "output_type": "error",
     "traceback": [
      "\u001b[1;36m  File \u001b[1;32m\"C:\\Users\\Admin\\AppData\\Local\\Temp\\ipykernel_17148\\3573493574.py\"\u001b[1;36m, line \u001b[1;32m18\u001b[0m\n\u001b[1;33m    if visited[v] == False\u001b[0m\n\u001b[1;37m                          ^\u001b[0m\n\u001b[1;31mSyntaxError\u001b[0m\u001b[1;31m:\u001b[0m invalid syntax\n"
     ]
    }
   ],
   "source": [
    "from queue import priorityQueue\n",
    "v = 14\n",
    "graph = [[] for i in range (V)]\n",
    "\n",
    "def  best_first_search(actual_src, target,n):\n",
    "    visited = [false] *n\n",
    "    pq = priorityqueue()\n",
    "    pq.put((0,actual_src))\n",
    "    visited[actual_src] = True\n",
    "    \n",
    "while pq.empty() == False:\n",
    "    u = pq.get()[1]\n",
    "    print(u, end = \" \") \n",
    "    if u == target:\n",
    "        break\n",
    "        \n",
    "    for v,c in graph[u]:\n",
    "        if visited[v] == False\n",
    "            visited[v] = True\n",
    "            pq.put((c,v))\n",
    "            print()\n",
    "           \n",
    "    def addedge(x,y,cost):\n",
    "        graph[x].append((y, cost))\n",
    "        graph[y].append((x, cost))\n",
    "        \n",
    "addedge(0,1,3)\n",
    "addedge(0,2,6)\n",
    "addedge(0,3,5)\n",
    "addedge(1,4,9)\n",
    "addedge(1,5,8)\n",
    " ddedge(2,6,12)\n",
    "addedge(2,7,14)\n",
    "addedge(3,8,7)\n",
    "addedge(8,9,5)\n",
    "addedge(8,10,6)\n",
    "addedge((9,11,1)\n",
    "addedge(9,12,10)\n",
    "addedge(9,13,2)"
   ]
  },
  {
   "cell_type": "code",
   "execution_count": null,
   "id": "1bac8e1f",
   "metadata": {},
   "outputs": [],
   "source": [
    "source = 0\n",
    "target = 0\n",
    "best_first_search(source, target, v)"
   ]
  },
  {
   "cell_type": "code",
   "execution_count": null,
   "id": "1db7caf9",
   "metadata": {},
   "outputs": [],
   "source": []
  }
 ],
 "metadata": {
  "kernelspec": {
   "display_name": "Python 3 (ipykernel)",
   "language": "python",
   "name": "python3"
  },
  "language_info": {
   "codemirror_mode": {
    "name": "ipython",
    "version": 3
   },
   "file_extension": ".py",
   "mimetype": "text/x-python",
   "name": "python",
   "nbconvert_exporter": "python",
   "pygments_lexer": "ipython3",
   "version": "3.9.13"
  }
 },
 "nbformat": 4,
 "nbformat_minor": 5
}
