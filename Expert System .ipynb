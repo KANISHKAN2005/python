{
 "cells": [
  {
   "cell_type": "code",
   "execution_count": 21,
   "id": "d957af35",
   "metadata": {},
   "outputs": [
    {
     "ename": "SyntaxError",
     "evalue": "invalid syntax (3590991833.py, line 21)",
     "output_type": "error",
     "traceback": [
      "\u001b[1;36m  File \u001b[1;32m\"C:\\Users\\aedpu\\AppData\\Local\\Temp\\ipykernel_7044\\3590991833.py\"\u001b[1;36m, line \u001b[1;32m21\u001b[0m\n\u001b[1;33m    elif vac == 'yes' and pos == 'yes' and (trip == 'yes' or trip == 'no'):\u001b[0m\n\u001b[1;37m    ^\u001b[0m\n\u001b[1;31mSyntaxError\u001b[0m\u001b[1;31m:\u001b[0m invalid syntax\n"
     ]
    }
   ],
   "source": [
    "print(\"welcome to  the the COVID vaccination form\")\n",
    "name = input(\"please enter your name:  \")\n",
    "age = int(input(\"please enter your age:  \"))\n",
    "\n",
    "if age>= 18:\n",
    "    print(\"for the following question please enter either yes or no\")\n",
    "    \n",
    "    \n",
    "    vac=input(\"have you recived your first vaccination shot\")\n",
    "    trip=input(\"have ypu travelled abroad?\")\n",
    "    sym=input(\"have you been COVID symtoms in last 14 days?\")\n",
    "    pos=input(\"have you been COVID positive in the last week?\")\n",
    "else:\n",
    "    print(\"you are not old enough to get vaccine\")\n",
    "if vac== 'yes' and trip == 'no' and pos =='no':\n",
    "    if sym == 'no':\n",
    "        print(\"you can get your second shot\")\n",
    "else:\n",
    "    print(\"you can get your second shot but do keep note of the systoms\")\n",
    "    print(\"if they persist do check with a docter\")       \n",
    "elif vac == 'yes' and pos == 'yes' and (trip == 'yes' or trip == 'no'):\n",
    "    print(\"As you had a COVID positive report,please do get vaccinated after 3 months of negative records\")\n",
    "elif vac == 'yes' and trip == 'yes' and pos == 'no':\n",
    "    if sym == 'no':\n",
    "        print(\"you can get your second shot\")\n",
    "    else:\n",
    "        print(\"you can get your second your shot but do not keep note of the symtoms\")\n",
    "        print(\"if they prisist do check with a doctor\")\n",
    "elif == vac 'no' and trip == 'no' and pos == 'no':\n",
    "    if sym == 'no':\n",
    "        print(\"you can get your first shot\")\n",
    "    else:\n",
    "        print(\"you can get your first shot but do not keep note of symtoms\")\n",
    "        print(\"if they persist do check with a doctor\")\n",
    "elif vac == \"no\" and pos == 'yes' and (trip == 'yes' or trip == 'no'):\n",
    "    print (\"as yu had a covid  positive report,please do get vaccinated after 3 months of negative records\" )\n",
    "elif vac == 'yes' and trip == 'yes' and pos == 'no':\n",
    "    else:\n",
    "        if sym == 'no':\n",
    "            print(\"you can get your first shot\")\n",
    "        else:\n",
    "            print(\"you can get your first shot but do not keep the note of the symtoms \")\n",
    "            print(\"if they persist d check with a doctor\")K12\n",
    "    \n",
    "        \n",
    "    \n",
    "        \n",
    "                "
   ]
  },
  {
   "cell_type": "code",
   "execution_count": null,
   "id": "dc666b9d",
   "metadata": {},
   "outputs": [],
   "source": []
  },
  {
   "cell_type": "code",
   "execution_count": null,
   "id": "d4b46cc6",
   "metadata": {},
   "outputs": [],
   "source": []
  },
  {
   "cell_type": "code",
   "execution_count": null,
   "id": "b82c3280",
   "metadata": {},
   "outputs": [],
   "source": []
  },
  {
   "cell_type": "code",
   "execution_count": null,
   "id": "cffe947d",
   "metadata": {},
   "outputs": [],
   "source": []
  },
  {
   "cell_type": "code",
   "execution_count": null,
   "id": "2e0c6be2",
   "metadata": {},
   "outputs": [],
   "source": []
  }
 ],
 "metadata": {
  "kernelspec": {
   "display_name": "Python 3 (ipykernel)",
   "language": "python",
   "name": "python3"
  },
  "language_info": {
   "codemirror_mode": {
    "name": "ipython",
    "version": 3
   },
   "file_extension": ".py",
   "mimetype": "text/x-python",
   "name": "python",
   "nbconvert_exporter": "python",
   "pygments_lexer": "ipython3",
   "version": "3.9.16"
  }
 },
 "nbformat": 4,
 "nbformat_minor": 5
}
