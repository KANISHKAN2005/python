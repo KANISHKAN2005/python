{
 "cells": [
  {
   "cell_type": "code",
   "execution_count": 13,
   "id": "155a65e1",
   "metadata": {},
   "outputs": [],
   "source": [
    "file = open(\"FILE HANDLIND.txt\")"
   ]
  },
  {
   "cell_type": "code",
   "execution_count": 20,
   "id": "15605d24",
   "metadata": {},
   "outputs": [],
   "source": [
    "file= open(\"FILE HANDLIND3.txt\",\"x\")"
   ]
  },
  {
   "cell_type": "code",
   "execution_count": 18,
   "id": "a617c1d3",
   "metadata": {},
   "outputs": [],
   "source": [
    "file.close()"
   ]
  },
  {
   "cell_type": "code",
   "execution_count": 53,
   "id": "e307b746",
   "metadata": {},
   "outputs": [],
   "source": [
    "f=open(\"FILE HANDLIND3.txt\",\"w\")"
   ]
  },
  {
   "cell_type": "code",
   "execution_count": 54,
   "id": "0d8511d1",
   "metadata": {},
   "outputs": [
    {
     "data": {
      "text/plain": [
       "27"
      ]
     },
     "execution_count": 54,
     "metadata": {},
     "output_type": "execute_result"
    }
   ],
   "source": [
    "f.write(\"welcome to our whisle club \")"
   ]
  },
  {
   "cell_type": "code",
   "execution_count": 55,
   "id": "fa0b950b",
   "metadata": {},
   "outputs": [
    {
     "data": {
      "text/plain": [
       "50"
      ]
     },
     "execution_count": 55,
     "metadata": {},
     "output_type": "execute_result"
    }
   ],
   "source": [
    "f.write(\" here now our franchise publish kaada for our fans\")"
   ]
  },
  {
   "cell_type": "code",
   "execution_count": 56,
   "id": "af6c4a94",
   "metadata": {},
   "outputs": [],
   "source": [
    "f.close()"
   ]
  },
  {
   "cell_type": "markdown",
   "id": "42a5020c",
   "metadata": {},
   "source": [
    "# file reading"
   ]
  },
  {
   "cell_type": "code",
   "execution_count": 57,
   "id": "03ca4895",
   "metadata": {},
   "outputs": [],
   "source": [
    "f=open(\"FILE HANDLIND3.txt\",\"r\")"
   ]
  },
  {
   "cell_type": "code",
   "execution_count": 58,
   "id": "bfef7a33",
   "metadata": {},
   "outputs": [
    {
     "data": {
      "text/plain": [
       "'welcome to our whisle club  here now our franchise publish kaada for our fans'"
      ]
     },
     "execution_count": 58,
     "metadata": {},
     "output_type": "execute_result"
    }
   ],
   "source": [
    "f.read()"
   ]
  },
  {
   "cell_type": "code",
   "execution_count": 61,
   "id": "3eeacdc7",
   "metadata": {},
   "outputs": [
    {
     "data": {
      "text/plain": [
       "'welcome to our whisle club  here now our franchise publish kaada for our fans'"
      ]
     },
     "execution_count": 61,
     "metadata": {},
     "output_type": "execute_result"
    }
   ],
   "source": [
    "f.read()"
   ]
  },
  {
   "cell_type": "code",
   "execution_count": 63,
   "id": "c3793c17",
   "metadata": {},
   "outputs": [
    {
     "data": {
      "text/plain": [
       "0"
      ]
     },
     "execution_count": 63,
     "metadata": {},
     "output_type": "execute_result"
    }
   ],
   "source": [
    "f.seek(0)"
   ]
  },
  {
   "cell_type": "code",
   "execution_count": 64,
   "id": "1b369bb3",
   "metadata": {},
   "outputs": [
    {
     "data": {
      "text/plain": [
       "'welcome to'"
      ]
     },
     "execution_count": 64,
     "metadata": {},
     "output_type": "execute_result"
    }
   ],
   "source": [
    "f.read(10)"
   ]
  },
  {
   "cell_type": "code",
   "execution_count": 65,
   "id": "f7ae9245",
   "metadata": {},
   "outputs": [],
   "source": [
    "f.close()"
   ]
  },
  {
   "cell_type": "markdown",
   "id": "eb02e970",
   "metadata": {},
   "source": [
    "# append"
   ]
  },
  {
   "cell_type": "code",
   "execution_count": 66,
   "id": "d2172ca6",
   "metadata": {},
   "outputs": [],
   "source": [
    "f=open(\"FILE HANDLIND3.txt\",\"a\")"
   ]
  },
  {
   "cell_type": "code",
   "execution_count": 67,
   "id": "fc132d1c",
   "metadata": {},
   "outputs": [
    {
     "data": {
      "text/plain": [
       "1"
      ]
     },
     "execution_count": 67,
     "metadata": {},
     "output_type": "execute_result"
    }
   ],
   "source": [
    "f.write(\"\\n\")"
   ]
  },
  {
   "cell_type": "code",
   "execution_count": 68,
   "id": "1d68d6c4",
   "metadata": {},
   "outputs": [
    {
     "data": {
      "text/plain": [
       "50"
      ]
     },
     "execution_count": 68,
     "metadata": {},
     "output_type": "execute_result"
    }
   ],
   "source": [
    "f.write(\"now you able to purchase kaada through our website\")"
   ]
  },
  {
   "cell_type": "code",
   "execution_count": 69,
   "id": "726a8562",
   "metadata": {},
   "outputs": [],
   "source": [
    "f.close()"
   ]
  },
  {
   "cell_type": "code",
   "execution_count": 70,
   "id": "b177dff2",
   "metadata": {},
   "outputs": [],
   "source": [
    "import json"
   ]
  },
  {
   "cell_type": "code",
   "execution_count": 72,
   "id": "48a7c3ec",
   "metadata": {},
   "outputs": [],
   "source": [
    "dictionary = {\n",
    "    \"name\" :\"kanishkan perumal\",\n",
    "    \"register no\" :122012173011,\n",
    "    \"cgpa\" : 0.2,\n",
    "    \"phone no\" : 9443116305\n",
    "}"
   ]
  },
  {
   "cell_type": "markdown",
   "id": "ac7c657f",
   "metadata": {},
   "source": [
    "# writing to json file"
   ]
  },
  {
   "cell_type": "code",
   "execution_count": 75,
   "id": "eaf9446c",
   "metadata": {},
   "outputs": [],
   "source": [
    "with open (\"sample.json\",\"w\") as outfile:\n",
    "    json.dump(dictionary,outfile)"
   ]
  },
  {
   "cell_type": "markdown",
   "id": "f1ae2fed",
   "metadata": {},
   "source": [
    "# #open a json file"
   ]
  },
  {
   "cell_type": "code",
   "execution_count": 76,
   "id": "c25c507d",
   "metadata": {},
   "outputs": [],
   "source": [
    "f=open('sample.json',)"
   ]
  },
  {
   "cell_type": "markdown",
   "id": "0552f6ce",
   "metadata": {},
   "source": [
    "# returing to json object"
   ]
  },
  {
   "cell_type": "code",
   "execution_count": 77,
   "id": "b534dc12",
   "metadata": {},
   "outputs": [
    {
     "name": "stdout",
     "output_type": "stream",
     "text": [
      "{'name': 'kanishkan perumal', 'register no': 122012173011, 'cgpa': 0.2, 'phone no': 9443116305}\n"
     ]
    }
   ],
   "source": [
    "data = json.load(f)\n",
    "print(data)"
   ]
  },
  {
   "cell_type": "code",
   "execution_count": 78,
   "id": "d01bb5b9",
   "metadata": {},
   "outputs": [],
   "source": [
    "f.close()"
   ]
  },
  {
   "cell_type": "code",
   "execution_count": null,
   "id": "e0150741",
   "metadata": {},
   "outputs": [],
   "source": []
  }
 ],
 "metadata": {
  "kernelspec": {
   "display_name": "Python 3 (ipykernel)",
   "language": "python",
   "name": "python3"
  },
  "language_info": {
   "codemirror_mode": {
    "name": "ipython",
    "version": 3
   },
   "file_extension": ".py",
   "mimetype": "text/x-python",
   "name": "python",
   "nbconvert_exporter": "python",
   "pygments_lexer": "ipython3",
   "version": "3.9.16"
  }
 },
 "nbformat": 4,
 "nbformat_minor": 5
}
