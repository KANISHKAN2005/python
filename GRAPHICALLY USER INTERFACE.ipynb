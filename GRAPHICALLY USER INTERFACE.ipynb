{
 "cells": [
  {
   "cell_type": "markdown",
   "id": "715e9e7c",
   "metadata": {},
   "source": [
    "#  GUI"
   ]
  },
  {
   "cell_type": "code",
   "execution_count": 1,
   "id": "45dcb7be",
   "metadata": {},
   "outputs": [],
   "source": [
    "import tkinter as tk"
   ]
  },
  {
   "cell_type": "code",
   "execution_count": 2,
   "id": "fd7ffb5a",
   "metadata": {},
   "outputs": [],
   "source": [
    "root = tk.Tk()"
   ]
  },
  {
   "cell_type": "code",
   "execution_count": 3,
   "id": "3bc6e3dd",
   "metadata": {},
   "outputs": [
    {
     "data": {
      "text/plain": [
       "''"
      ]
     },
     "execution_count": 3,
     "metadata": {},
     "output_type": "execute_result"
    }
   ],
   "source": [
    "root.title(\"welcome to the ai class\")"
   ]
  },
  {
   "cell_type": "code",
   "execution_count": 4,
   "id": "19657866",
   "metadata": {},
   "outputs": [],
   "source": [
    "mybutton = tk.Button(root, text=\"click on\")"
   ]
  },
  {
   "cell_type": "code",
   "execution_count": 5,
   "id": "133c12f1",
   "metadata": {},
   "outputs": [],
   "source": [
    "mybutton = tk.Button(root, text=\"click on\",padx=90 ,pady=60)"
   ]
  },
  {
   "cell_type": "code",
   "execution_count": 6,
   "id": "44f07399",
   "metadata": {},
   "outputs": [],
   "source": [
    "mybutton1 = tk.Button(root, text=\"click on\")"
   ]
  },
  {
   "cell_type": "code",
   "execution_count": 7,
   "id": "7c91bd1c",
   "metadata": {},
   "outputs": [],
   "source": [
    "mybutton2 = tk.Button(root, text=\"click off\")"
   ]
  },
  {
   "cell_type": "code",
   "execution_count": 8,
   "id": "98c53592",
   "metadata": {},
   "outputs": [],
   "source": [
    "mybutton3 = tk.Button(root, text=\"click on\")"
   ]
  },
  {
   "cell_type": "code",
   "execution_count": 9,
   "id": "79d2e8b1",
   "metadata": {},
   "outputs": [],
   "source": [
    "mybutton.pack()"
   ]
  },
  {
   "cell_type": "code",
   "execution_count": 10,
   "id": "d22a9e6c",
   "metadata": {},
   "outputs": [],
   "source": [
    "mybutton1.pack()"
   ]
  },
  {
   "cell_type": "code",
   "execution_count": 11,
   "id": "8759a9a6",
   "metadata": {},
   "outputs": [],
   "source": [
    "mybutton2.pack()"
   ]
  },
  {
   "cell_type": "code",
   "execution_count": 12,
   "id": "a8b796cb",
   "metadata": {},
   "outputs": [],
   "source": [
    "mybutton3.pack()"
   ]
  },
  {
   "cell_type": "code",
   "execution_count": 13,
   "id": "8bee8e10",
   "metadata": {},
   "outputs": [],
   "source": [
    "def myclick():\n",
    "    mylabel4 = tk.Label(root, text=\"clicked on button\")\n",
    "    mylabel4.pack()"
   ]
  },
  {
   "cell_type": "code",
   "execution_count": 14,
   "id": "6ce29ef2",
   "metadata": {},
   "outputs": [],
   "source": [
    "mybutton = tk.Button(root, text =\"click me\",command = myclick)"
   ]
  },
  {
   "cell_type": "code",
   "execution_count": null,
   "id": "f77a082b",
   "metadata": {},
   "outputs": [],
   "source": []
  },
  {
   "cell_type": "code",
   "execution_count": 15,
   "id": "005cf452",
   "metadata": {},
   "outputs": [],
   "source": [
    "mybutton = tk.Button(root, text =\"click me\",command = myclick, fg='blue',bg='red')"
   ]
  },
  {
   "cell_type": "code",
   "execution_count": 16,
   "id": "89cd1659",
   "metadata": {},
   "outputs": [],
   "source": [
    "def myclick1():\n",
    "    mylabel4 = tk.Label(root, text=\"clicked on button\")\n",
    "    mylabel4.pack()"
   ]
  },
  {
   "cell_type": "code",
   "execution_count": 17,
   "id": "8053ab9f",
   "metadata": {},
   "outputs": [],
   "source": [
    "def myclick3():\n",
    "    mylabel4 = tk.Label(root, text=\"oh\")\n",
    "    mylabel4.pack()"
   ]
  },
  {
   "cell_type": "code",
   "execution_count": 18,
   "id": "af52c01b",
   "metadata": {},
   "outputs": [],
   "source": [
    "def myclick2():\n",
    "    mylabel4 = tk.Label(root, text=\"not\")\n",
    "    mylabel4.pack()"
   ]
  },
  {
   "cell_type": "code",
   "execution_count": 19,
   "id": "37f9c698",
   "metadata": {},
   "outputs": [],
   "source": [
    "def myclick4():\n",
    "    mylabel4 = tk.Label(root, text=\"hai\")\n",
    "    mylabel4.pack()"
   ]
  },
  {
   "cell_type": "code",
   "execution_count": 20,
   "id": "44fe6a36",
   "metadata": {},
   "outputs": [],
   "source": [
    "mybutton1 = tk.Button(root, text =\"subash\",command = myclick1)"
   ]
  },
  {
   "cell_type": "code",
   "execution_count": 21,
   "id": "756bf61f",
   "metadata": {},
   "outputs": [],
   "source": [
    "mybutton2 = tk.Button(root, text =\"viknesh raj\",command = myclick1, fg='blue',bg='red')"
   ]
  },
  {
   "cell_type": "code",
   "execution_count": 22,
   "id": "a2e71913",
   "metadata": {},
   "outputs": [],
   "source": [
    "mybutton3 = tk.Button(root, text =\"kanishkan\",command = myclick2, fg='white',bg='black')"
   ]
  },
  {
   "cell_type": "code",
   "execution_count": 23,
   "id": "5bcac3e6",
   "metadata": {},
   "outputs": [],
   "source": [
    "mybutton4 = tk.Button(root, text =\"stranger\",command = myclick3, fg='yellow',bg='pink')"
   ]
  },
  {
   "cell_type": "code",
   "execution_count": 24,
   "id": "40691b35",
   "metadata": {},
   "outputs": [],
   "source": [
    "mybutton5 = tk.Button(root, text =\"things\",command = myclick4, fg='purple',bg='orange')"
   ]
  },
  {
   "cell_type": "code",
   "execution_count": 25,
   "id": "1c86bf8d",
   "metadata": {},
   "outputs": [],
   "source": [
    "mybutton1.pack()"
   ]
  },
  {
   "cell_type": "code",
   "execution_count": 26,
   "id": "c3de3221",
   "metadata": {},
   "outputs": [],
   "source": [
    "mybutton2.pack()"
   ]
  },
  {
   "cell_type": "code",
   "execution_count": 27,
   "id": "173060f3",
   "metadata": {},
   "outputs": [],
   "source": [
    "mybutton3.pack()"
   ]
  },
  {
   "cell_type": "code",
   "execution_count": 28,
   "id": "9fa85cfe",
   "metadata": {},
   "outputs": [],
   "source": [
    "mybutton4.pack()"
   ]
  },
  {
   "cell_type": "code",
   "execution_count": 29,
   "id": "4351d179",
   "metadata": {},
   "outputs": [],
   "source": [
    "mybutton5.pack()"
   ]
  },
  {
   "cell_type": "code",
   "execution_count": null,
   "id": "257d79d1",
   "metadata": {},
   "outputs": [],
   "source": []
  },
  {
   "cell_type": "code",
   "execution_count": 3,
   "id": "2a312852",
   "metadata": {},
   "outputs": [],
   "source": [
    "EntryWidget = tk.Entry(root)"
   ]
  },
  {
   "cell_type": "code",
   "execution_count": 4,
   "id": "b2eba32f",
   "metadata": {},
   "outputs": [],
   "source": [
    "EntryWidget.insert(0,\"type your text here\")"
   ]
  },
  {
   "cell_type": "code",
   "execution_count": 5,
   "id": "57d845a6",
   "metadata": {},
   "outputs": [],
   "source": [
    "EntryWidget.pack()"
   ]
  },
  {
   "cell_type": "code",
   "execution_count": 6,
   "id": "a511a57e",
   "metadata": {},
   "outputs": [],
   "source": [
    "root =tk.Tk()"
   ]
  },
  {
   "cell_type": "code",
   "execution_count": 7,
   "id": "646dcde3",
   "metadata": {},
   "outputs": [],
   "source": [
    "v = tk.IntVar()\n",
    "v.set(1)"
   ]
  },
  {
   "cell_type": "code",
   "execution_count": 8,
   "id": "f7db200e",
   "metadata": {},
   "outputs": [],
   "source": [
    "radiobutton_widget1 =tk.Radiobutton(root,text = \"Radiobutton 1\",variable=v, value=1)\n",
    "radiobutton_widget2 =tk.Radiobutton(root,text = \"Radiobutton 2\",variable=v, value=2)"
   ]
  },
  {
   "cell_type": "code",
   "execution_count": 9,
   "id": "6ae2bf9f",
   "metadata": {},
   "outputs": [],
   "source": [
    "radiobutton_widget1.pack()\n",
    "radiobutton_widget2.pack()"
   ]
  },
  {
   "cell_type": "code",
   "execution_count": null,
   "id": "6a1abc2b",
   "metadata": {},
   "outputs": [],
   "source": []
  },
  {
   "cell_type": "code",
   "execution_count": 10,
   "id": "1fa97e5c",
   "metadata": {},
   "outputs": [],
   "source": [
    "listbox_widget = tk.Listbox(root)"
   ]
  },
  {
   "cell_type": "code",
   "execution_count": 11,
   "id": "d011a508",
   "metadata": {},
   "outputs": [],
   "source": [
    "listbox_entries = [\"Entry 1\" \"Entry 4\" \"Entry 3\" \"Entry 2\"]"
   ]
  },
  {
   "cell_type": "code",
   "execution_count": 12,
   "id": "d8a32190",
   "metadata": {},
   "outputs": [],
   "source": [
    "for entry in listbox_entries:\n",
    "    listbox_widget.insert(tk.END,entry)"
   ]
  },
  {
   "cell_type": "code",
   "execution_count": 13,
   "id": "ad4b1b26",
   "metadata": {},
   "outputs": [],
   "source": [
    "listbox_widget.pack()"
   ]
  },
  {
   "cell_type": "code",
   "execution_count": null,
   "id": "18e2c962",
   "metadata": {},
   "outputs": [],
   "source": [
    "root.mainloop()"
   ]
  },
  {
   "cell_type": "code",
   "execution_count": null,
   "id": "e5d610f2",
   "metadata": {},
   "outputs": [],
   "source": []
  }
 ],
 "metadata": {
  "kernelspec": {
   "display_name": "Python 3 (ipykernel)",
   "language": "python",
   "name": "python3"
  },
  "language_info": {
   "codemirror_mode": {
    "name": "ipython",
    "version": 3
   },
   "file_extension": ".py",
   "mimetype": "text/x-python",
   "name": "python",
   "nbconvert_exporter": "python",
   "pygments_lexer": "ipython3",
   "version": "3.9.13"
  }
 },
 "nbformat": 4,
 "nbformat_minor": 5
}
