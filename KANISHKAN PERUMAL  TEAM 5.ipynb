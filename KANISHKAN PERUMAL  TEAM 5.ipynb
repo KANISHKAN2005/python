{
 "cells": [
  {
   "cell_type": "code",
   "execution_count": 1,
   "id": "f42d9d35",
   "metadata": {
    "scrolled": true
   },
   "outputs": [
    {
     "name": "stdout",
     "output_type": "stream",
     "text": [
      "Welcome to the traffic violation system\n",
      "Please enter your age: 18\n",
      "Do you have a valid driving license? yes\n",
      "Did you violate the speed limit in a residential zone? yes\n",
      "Did you violate the speed limit on the highway? no\n",
      "Did you consume alcohol before driving? no\n",
      "Did you consume drugs before driving? no\n",
      "Did you cause an accident? yes\n",
      "Your license has been revoked due to causing an accident.\n"
     ]
    }
   ],
   "source": [
    "print(\"Welcome to the traffic violation system\")\n",
    "age = int(input(\"Please enter your age: \"))\n",
    "lic = input(\"Do you have a valid driving license? \")\n",
    "zone = input(\"Did you violate the speed limit in a residential zone? \")\n",
    "highway = input(\"Did you violate the speed limit on the highway? \")\n",
    "drink = input(\"Did you consume alcohol before driving? \")\n",
    "drug = input(\"Did you consume drugs before driving? \")\n",
    "accident = input(\"Did you cause an accident? \")\n",
    "\n",
    "if age < 16 or lic == 'no':\n",
    "    print(\"You are not allowed to drive.\")\n",
    "elif drink == 'yes' or drug == 'yes':\n",
    "    print(\"You are not allowed to drive. Please use a taxi or public transportation.\")\n",
    "elif accident == 'yes':\n",
    "    print(\"Your license has been revoked due to causing an accident.\")\n",
    "elif zone == 'yes' and highway == 'yes':\n",
    "    print(\"Your license has been suspended for one month due to multiple violations.\")\n",
    "elif zone == 'yes' and highway == 'no':\n",
    "    print(\"You have been fined $50 for violating the speed limit in a residential zone.\")\n",
    "elif zone == 'no' and highway == 'yes':\n",
    "    print(\"You have been fined $100 for violating the speed limit on the highway.\")\n",
    "else:\n",
    "    print(\"You have not violated any traffic rules.\")"
   ]
  },
  {
   "cell_type": "code",
   "execution_count": null,
   "id": "e9fc4da3",
   "metadata": {},
   "outputs": [],
   "source": []
  }
 ],
 "metadata": {
  "kernelspec": {
   "display_name": "Python 3 (ipykernel)",
   "language": "python",
   "name": "python3"
  },
  "language_info": {
   "codemirror_mode": {
    "name": "ipython",
    "version": 3
   },
   "file_extension": ".py",
   "mimetype": "text/x-python",
   "name": "python",
   "nbconvert_exporter": "python",
   "pygments_lexer": "ipython3",
   "version": "3.9.13"
  }
 },
 "nbformat": 4,
 "nbformat_minor": 5
}
