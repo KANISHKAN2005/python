{
 "cells": [
  {
   "cell_type": "markdown",
   "id": "efc9f8ee",
   "metadata": {},
   "source": [
    "# LIST OPERATION "
   ]
  },
  {
   "cell_type": "code",
   "execution_count": 46,
   "id": "34e5a1ac",
   "metadata": {},
   "outputs": [],
   "source": [
    "INDIA_OPENING = [\"ROHIT SHARMA\", \"SHUBAN GHILL\", \"ISHAN KISHAN\" ]"
   ]
  },
  {
   "cell_type": "code",
   "execution_count": 49,
   "id": "5615e4ad",
   "metadata": {},
   "outputs": [
    {
     "data": {
      "text/plain": [
       "['ROHIT SHARMA', 'SHUBAN GHILL', 'ISHAN KISHAN']"
      ]
     },
     "execution_count": 49,
     "metadata": {},
     "output_type": "execute_result"
    }
   ],
   "source": [
    "INDIA_OPENING "
   ]
  },
  {
   "cell_type": "code",
   "execution_count": 50,
   "id": "570cd89c",
   "metadata": {},
   "outputs": [],
   "source": [
    "INDIA_OPENING = [\"ROHIT SHARMA\",45,\"SHUBAN GHILL\",8,\"ISHAN KISHAN\",3]"
   ]
  },
  {
   "cell_type": "code",
   "execution_count": 51,
   "id": "36f47a14",
   "metadata": {},
   "outputs": [
    {
     "data": {
      "text/plain": [
       "['ROHIT SHARMA', 45, 'SHUBAN GHILL', 8, 'ISHAN KISHAN', 3]"
      ]
     },
     "execution_count": 51,
     "metadata": {},
     "output_type": "execute_result"
    }
   ],
   "source": [
    "INDIA_OPENING"
   ]
  },
  {
   "cell_type": "code",
   "execution_count": 52,
   "id": "c26ec48e",
   "metadata": {},
   "outputs": [
    {
     "data": {
      "text/plain": [
       "6"
      ]
     },
     "execution_count": 52,
     "metadata": {},
     "output_type": "execute_result"
    }
   ],
   "source": [
    "len(INDIA_OPENING)"
   ]
  },
  {
   "cell_type": "code",
   "execution_count": 53,
   "id": "0984c2d3",
   "metadata": {},
   "outputs": [
    {
     "data": {
      "text/plain": [
       "'ISHAN KISHAN'"
      ]
     },
     "execution_count": 53,
     "metadata": {},
     "output_type": "execute_result"
    }
   ],
   "source": [
    "INDIA_OPENING[4]"
   ]
  },
  {
   "cell_type": "code",
   "execution_count": 54,
   "id": "1aabb784",
   "metadata": {},
   "outputs": [
    {
     "data": {
      "text/plain": [
       "3"
      ]
     },
     "execution_count": 54,
     "metadata": {},
     "output_type": "execute_result"
    }
   ],
   "source": [
    "INDIA_OPENING[-1]"
   ]
  },
  {
   "cell_type": "markdown",
   "id": "03a74b77",
   "metadata": {},
   "source": [
    "# adding"
   ]
  },
  {
   "cell_type": "code",
   "execution_count": 55,
   "id": "d14db9df",
   "metadata": {},
   "outputs": [],
   "source": [
    "INDIA_OPENING.append(\"shikhar dhawan\")"
   ]
  },
  {
   "cell_type": "code",
   "execution_count": 56,
   "id": "e6140da4",
   "metadata": {},
   "outputs": [
    {
     "data": {
      "text/plain": [
       "['ROHIT SHARMA', 45, 'SHUBAN GHILL', 8, 'ISHAN KISHAN', 3, 'shikhar dhawan']"
      ]
     },
     "execution_count": 56,
     "metadata": {},
     "output_type": "execute_result"
    }
   ],
   "source": [
    "INDIA_OPENING"
   ]
  },
  {
   "cell_type": "markdown",
   "id": "e1e0db32",
   "metadata": {},
   "source": [
    "# removing"
   ]
  },
  {
   "cell_type": "code",
   "execution_count": 57,
   "id": "c9dd3635",
   "metadata": {},
   "outputs": [],
   "source": [
    "INDIA_OPENING.remove(\"shikhar dhawan\")"
   ]
  },
  {
   "cell_type": "code",
   "execution_count": 58,
   "id": "236b73c7",
   "metadata": {},
   "outputs": [
    {
     "data": {
      "text/plain": [
       "['ROHIT SHARMA', 45, 'SHUBAN GHILL', 8, 'ISHAN KISHAN', 3]"
      ]
     },
     "execution_count": 58,
     "metadata": {},
     "output_type": "execute_result"
    }
   ],
   "source": [
    "INDIA_OPENING"
   ]
  },
  {
   "cell_type": "code",
   "execution_count": 61,
   "id": "33a94cb1",
   "metadata": {},
   "outputs": [],
   "source": [
    "del INDIA_OPENING[5]"
   ]
  },
  {
   "cell_type": "code",
   "execution_count": 62,
   "id": "c00d0bca",
   "metadata": {},
   "outputs": [
    {
     "data": {
      "text/plain": [
       "['ROHIT SHARMA', 45, 'SHUBAN GHILL', 8, 'ISHAN KISHAN']"
      ]
     },
     "execution_count": 62,
     "metadata": {},
     "output_type": "execute_result"
    }
   ],
   "source": [
    "INDIA_OPENING"
   ]
  },
  {
   "cell_type": "code",
   "execution_count": 63,
   "id": "1ff44230",
   "metadata": {},
   "outputs": [
    {
     "data": {
      "text/plain": [
       "'ISHAN KISHAN'"
      ]
     },
     "execution_count": 63,
     "metadata": {},
     "output_type": "execute_result"
    }
   ],
   "source": [
    "INDIA_OPENING.pop()"
   ]
  },
  {
   "cell_type": "code",
   "execution_count": 64,
   "id": "fdd5b48e",
   "metadata": {},
   "outputs": [
    {
     "data": {
      "text/plain": [
       "['ROHIT SHARMA', 45, 'SHUBAN GHILL', 8]"
      ]
     },
     "execution_count": 64,
     "metadata": {},
     "output_type": "execute_result"
    }
   ],
   "source": [
    "INDIA_OPENING"
   ]
  },
  {
   "cell_type": "code",
   "execution_count": 69,
   "id": "3f162dce",
   "metadata": {},
   "outputs": [],
   "source": [
    "del INDIA_OPENING[-1]"
   ]
  },
  {
   "cell_type": "code",
   "execution_count": 70,
   "id": "9eafa5ae",
   "metadata": {},
   "outputs": [
    {
     "data": {
      "text/plain": [
       "['ROHIT SHARMA', 45, 'SHUBAN GHILL']"
      ]
     },
     "execution_count": 70,
     "metadata": {},
     "output_type": "execute_result"
    }
   ],
   "source": [
    "INDIA_OPENING"
   ]
  },
  {
   "cell_type": "markdown",
   "id": "e2af01f2",
   "metadata": {},
   "source": [
    "# copying"
   ]
  },
  {
   "cell_type": "code",
   "execution_count": 71,
   "id": "f5593ef8",
   "metadata": {},
   "outputs": [],
   "source": [
    "striker = INDIA_OPENING.copy()"
   ]
  },
  {
   "cell_type": "code",
   "execution_count": 72,
   "id": "e76f39b1",
   "metadata": {},
   "outputs": [
    {
     "data": {
      "text/plain": [
       "['ROHIT SHARMA', 45, 'SHUBAN GHILL']"
      ]
     },
     "execution_count": 72,
     "metadata": {},
     "output_type": "execute_result"
    }
   ],
   "source": [
    "striker"
   ]
  },
  {
   "cell_type": "code",
   "execution_count": 76,
   "id": "6743dafc",
   "metadata": {},
   "outputs": [],
   "source": [
    "standing = striker + INDIA_OPENING"
   ]
  },
  {
   "cell_type": "code",
   "execution_count": 77,
   "id": "54bffddc",
   "metadata": {},
   "outputs": [
    {
     "data": {
      "text/plain": [
       "['ROHIT SHARMA', 45, 'SHUBAN GHILL', 'ROHIT SHARMA', 45, 'SHUBAN GHILL']"
      ]
     },
     "execution_count": 77,
     "metadata": {},
     "output_type": "execute_result"
    }
   ],
   "source": [
    "standing"
   ]
  },
  {
   "cell_type": "markdown",
   "id": "cf04eb0b",
   "metadata": {},
   "source": [
    "## SHOWING DATA TYPES"
   ]
  },
  {
   "cell_type": "code",
   "execution_count": 80,
   "id": "05bcffe5",
   "metadata": {},
   "outputs": [],
   "source": [
    "NEW = [7,10,18,49,99]\n",
    "OLD = [7,10,18,49,99]"
   ]
  },
  {
   "cell_type": "code",
   "execution_count": 79,
   "id": "de90de51",
   "metadata": {},
   "outputs": [
    {
     "data": {
      "text/plain": [
       "list"
      ]
     },
     "execution_count": 79,
     "metadata": {},
     "output_type": "execute_result"
    }
   ],
   "source": [
    "type(NEW)"
   ]
  },
  {
   "cell_type": "code",
   "execution_count": 81,
   "id": "9857b306",
   "metadata": {},
   "outputs": [],
   "source": [
    "NEW.sort()\n",
    "OLD.sort()"
   ]
  },
  {
   "cell_type": "code",
   "execution_count": 82,
   "id": "df1cb38d",
   "metadata": {},
   "outputs": [
    {
     "data": {
      "text/plain": [
       "[7, 10, 18, 49, 99]"
      ]
     },
     "execution_count": 82,
     "metadata": {},
     "output_type": "execute_result"
    }
   ],
   "source": [
    "NEW"
   ]
  },
  {
   "cell_type": "code",
   "execution_count": 86,
   "id": "2f787d98",
   "metadata": {},
   "outputs": [
    {
     "name": "stdout",
     "output_type": "stream",
     "text": [
      "true\n"
     ]
    }
   ],
   "source": [
    "if NEW == OLD:\n",
    "    print(\"true\")\n",
    "else:\n",
    "    print(\"false\")"
   ]
  },
  {
   "cell_type": "code",
   "execution_count": null,
   "id": "0538a9dd",
   "metadata": {},
   "outputs": [],
   "source": []
  },
  {
   "cell_type": "markdown",
   "id": "43a4d104",
   "metadata": {},
   "source": [
    "# task"
   ]
  },
  {
   "cell_type": "code",
   "execution_count": 87,
   "id": "94a4a2da",
   "metadata": {},
   "outputs": [],
   "source": [
    "sports = [\"hockey\",\"cricket\"]\n",
    "task = [\"hockey\",\"cricket\"]"
   ]
  },
  {
   "cell_type": "code",
   "execution_count": 89,
   "id": "2e549a12",
   "metadata": {},
   "outputs": [],
   "source": [
    "sports.append(\"tennis\")\n",
    "task.append(\"tennis\")"
   ]
  },
  {
   "cell_type": "code",
   "execution_count": 90,
   "id": "2656fddd",
   "metadata": {},
   "outputs": [
    {
     "data": {
      "text/plain": [
       "['hockey', 'cricket', 'tennis', 'tennis']"
      ]
     },
     "execution_count": 90,
     "metadata": {},
     "output_type": "execute_result"
    }
   ],
   "source": [
    "sports"
   ]
  },
  {
   "cell_type": "code",
   "execution_count": 91,
   "id": "9548d246",
   "metadata": {},
   "outputs": [
    {
     "data": {
      "text/plain": [
       "['hockey', 'cricket', 'tennis']"
      ]
     },
     "execution_count": 91,
     "metadata": {},
     "output_type": "execute_result"
    }
   ],
   "source": [
    "task"
   ]
  },
  {
   "cell_type": "code",
   "execution_count": 93,
   "id": "19072c6e",
   "metadata": {},
   "outputs": [],
   "source": [
    "task.sort()"
   ]
  },
  {
   "cell_type": "code",
   "execution_count": 94,
   "id": "4a72412e",
   "metadata": {},
   "outputs": [],
   "source": [
    "sports.sort()"
   ]
  },
  {
   "cell_type": "code",
   "execution_count": 95,
   "id": "dd9a8dfe",
   "metadata": {},
   "outputs": [
    {
     "data": {
      "text/plain": [
       "['cricket', 'hockey', 'tennis']"
      ]
     },
     "execution_count": 95,
     "metadata": {},
     "output_type": "execute_result"
    }
   ],
   "source": [
    "task"
   ]
  },
  {
   "cell_type": "code",
   "execution_count": 96,
   "id": "ccfef8f7",
   "metadata": {},
   "outputs": [
    {
     "data": {
      "text/plain": [
       "['cricket', 'hockey', 'tennis', 'tennis']"
      ]
     },
     "execution_count": 96,
     "metadata": {},
     "output_type": "execute_result"
    }
   ],
   "source": [
    "sports"
   ]
  },
  {
   "cell_type": "code",
   "execution_count": 97,
   "id": "f944d224",
   "metadata": {},
   "outputs": [],
   "source": [
    "hh = sports.copy()"
   ]
  },
  {
   "cell_type": "code",
   "execution_count": 98,
   "id": "f05da964",
   "metadata": {},
   "outputs": [
    {
     "data": {
      "text/plain": [
       "['cricket', 'hockey', 'tennis', 'tennis']"
      ]
     },
     "execution_count": 98,
     "metadata": {},
     "output_type": "execute_result"
    }
   ],
   "source": [
    "hh"
   ]
  },
  {
   "cell_type": "code",
   "execution_count": 101,
   "id": "db369d11",
   "metadata": {},
   "outputs": [
    {
     "name": "stdout",
     "output_type": "stream",
     "text": [
      "equal\n"
     ]
    }
   ],
   "source": [
    "if sports == task:\n",
    "    print(\"not equal\")\n",
    "else:\n",
    "    print(\"equal\")\n",
    "\n"
   ]
  },
  {
   "cell_type": "code",
   "execution_count": null,
   "id": "82685f4a",
   "metadata": {},
   "outputs": [],
   "source": []
  }
 ],
 "metadata": {
  "kernelspec": {
   "display_name": "Python 3 (ipykernel)",
   "language": "python",
   "name": "python3"
  },
  "language_info": {
   "codemirror_mode": {
    "name": "ipython",
    "version": 3
   },
   "file_extension": ".py",
   "mimetype": "text/x-python",
   "name": "python",
   "nbconvert_exporter": "python",
   "pygments_lexer": "ipython3",
   "version": "3.9.13"
  }
 },
 "nbformat": 4,
 "nbformat_minor": 5
}
