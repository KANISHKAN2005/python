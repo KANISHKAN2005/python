{
 "cells": [
  {
   "cell_type": "markdown",
   "id": "ba6a820e",
   "metadata": {},
   "source": [
    "# LOOPING"
   ]
  },
  {
   "cell_type": "code",
   "execution_count": 5,
   "id": "c3289816",
   "metadata": {},
   "outputs": [],
   "source": [
    "world = [\"humans\",\"animals\",\"birds\",]"
   ]
  },
  {
   "cell_type": "code",
   "execution_count": 6,
   "id": "89411289",
   "metadata": {},
   "outputs": [
    {
     "name": "stdout",
     "output_type": "stream",
     "text": [
      "humans\n",
      "animals\n",
      "birds\n"
     ]
    }
   ],
   "source": [
    "for earth in world:\n",
    "    print(earth)"
   ]
  },
  {
   "cell_type": "markdown",
   "id": "f53c6592",
   "metadata": {},
   "source": [
    "# print odd and even number"
   ]
  },
  {
   "cell_type": "code",
   "execution_count": 12,
   "id": "ed57bedd",
   "metadata": {},
   "outputs": [],
   "source": [
    "numr = [22,44,66,99]"
   ]
  },
  {
   "cell_type": "code",
   "execution_count": 14,
   "id": "9dcbd317",
   "metadata": {},
   "outputs": [
    {
     "name": "stdout",
     "output_type": "stream",
     "text": [
      "22 is even\n",
      "44 is even\n",
      "66 is even\n",
      "99 is odd\n"
     ]
    }
   ],
   "source": [
    "for num in numr:\n",
    "    if num%2 == 0:\n",
    "        print(f\"{num} is even\")\n",
    "    else:\n",
    "        print(f\"{num} is odd\")\n",
    "        "
   ]
  },
  {
   "cell_type": "code",
   "execution_count": 26,
   "id": "0358afc3",
   "metadata": {},
   "outputs": [
    {
     "name": "stdout",
     "output_type": "stream",
     "text": [
      "viknesh raj\n"
     ]
    }
   ],
   "source": [
    "for _ in 'd':\n",
    "    print(\"viknesh raj\")"
   ]
  },
  {
   "cell_type": "code",
   "execution_count": 28,
   "id": "7d3eca3c",
   "metadata": {},
   "outputs": [],
   "source": [
    "NET = [(90,80),(70,60),(50,40),(30,20)]"
   ]
  },
  {
   "cell_type": "code",
   "execution_count": 29,
   "id": "3d0125d2",
   "metadata": {},
   "outputs": [
    {
     "name": "stdout",
     "output_type": "stream",
     "text": [
      "(90, 80)\n",
      "(70, 60)\n",
      "(50, 40)\n",
      "(30, 20)\n"
     ]
    }
   ],
   "source": [
    "for item in NET:\n",
    "    print(item)"
   ]
  },
  {
   "cell_type": "code",
   "execution_count": 30,
   "id": "4e5d13f1",
   "metadata": {},
   "outputs": [
    {
     "name": "stdout",
     "output_type": "stream",
     "text": [
      "90\n",
      "80\n",
      "70\n",
      "60\n",
      "50\n",
      "40\n",
      "30\n",
      "20\n"
     ]
    }
   ],
   "source": [
    "for a,b in NET:\n",
    "    print(a)\n",
    "    print(b)"
   ]
  },
  {
   "cell_type": "code",
   "execution_count": 36,
   "id": "8110364e",
   "metadata": {},
   "outputs": [],
   "source": [
    "positive = {1:\"good morning\",2:\"good afternoon\",3: \"good afternoon\"}"
   ]
  },
  {
   "cell_type": "code",
   "execution_count": 39,
   "id": "c6954131",
   "metadata": {},
   "outputs": [
    {
     "name": "stdout",
     "output_type": "stream",
     "text": [
      "1\n",
      "2\n",
      "3\n"
     ]
    }
   ],
   "source": [
    "for item in positive:\n",
    "    print(item)\n"
   ]
  },
  {
   "cell_type": "code",
   "execution_count": 43,
   "id": "83f7f63c",
   "metadata": {},
   "outputs": [
    {
     "name": "stdout",
     "output_type": "stream",
     "text": [
      "(1, 'good morning')\n",
      "(2, 'good afternoon')\n",
      "(3, 'good afternoon')\n"
     ]
    }
   ],
   "source": [
    "for item in positive.items():\n",
    "    print(item)"
   ]
  },
  {
   "cell_type": "markdown",
   "id": "93f47479",
   "metadata": {},
   "source": [
    "# whileloop"
   ]
  },
  {
   "cell_type": "code",
   "execution_count": 56,
   "id": "7cdeb5da",
   "metadata": {},
   "outputs": [
    {
     "name": "stdout",
     "output_type": "stream",
     "text": [
      "enther a number 10000\n",
      "the sum is 55000\n"
     ]
    }
   ],
   "source": [
    "n = input(\"enther a number \")\n",
    "val = 0\n",
    "i = 0\n",
    "while i <= int(n):\n",
    "    val += i\n",
    "    i += 1000\n",
    "print (f\"the sum is {val}\")"
   ]
  },
  {
   "cell_type": "code",
   "execution_count": 1,
   "id": "6493bb62",
   "metadata": {},
   "outputs": [
    {
     "name": "stdout",
     "output_type": "stream",
     "text": [
      "inside loop\n",
      "inside else\n"
     ]
    }
   ],
   "source": [
    "counter = 0 \n",
    "while counter <3:\n",
    "    print(\"inside loop\")\n",
    "    counter = counter +22\n",
    "else:\n",
    "    print (\"inside else\")"
   ]
  },
  {
   "cell_type": "code",
   "execution_count": 2,
   "id": "50d90bab",
   "metadata": {},
   "outputs": [
    {
     "name": "stdout",
     "output_type": "stream",
     "text": [
      "0\n",
      "1\n",
      "2\n",
      "no items left \n"
     ]
    }
   ],
   "source": [
    "digits = [0,1,2]\n",
    "for i in digits:\n",
    "    print(i)\n",
    "else:\n",
    "    print(\"no items left \")"
   ]
  },
  {
   "cell_type": "code",
   "execution_count": 4,
   "id": "9b591302",
   "metadata": {},
   "outputs": [
    {
     "name": "stdout",
     "output_type": "stream",
     "text": [
      "0\n",
      "1\n",
      "2\n",
      "3\n",
      "4\n"
     ]
    }
   ],
   "source": [
    "count = 0\n",
    "while True:\n",
    "    print(count)\n",
    "    count+= 1\n",
    "    if count >=5:\n",
    "        break"
   ]
  },
  {
   "cell_type": "code",
   "execution_count": null,
   "id": "f34b92d1",
   "metadata": {},
   "outputs": [],
   "source": []
  }
 ],
 "metadata": {
  "kernelspec": {
   "display_name": "Python 3 (ipykernel)",
   "language": "python",
   "name": "python3"
  },
  "language_info": {
   "codemirror_mode": {
    "name": "ipython",
    "version": 3
   },
   "file_extension": ".py",
   "mimetype": "text/x-python",
   "name": "python",
   "nbconvert_exporter": "python",
   "pygments_lexer": "ipython3",
   "version": "3.9.13"
  }
 },
 "nbformat": 4,
 "nbformat_minor": 5
}
