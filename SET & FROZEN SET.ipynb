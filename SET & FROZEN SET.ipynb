{
 "cells": [
  {
   "cell_type": "code",
   "execution_count": 1,
   "id": "36c95ac3",
   "metadata": {},
   "outputs": [],
   "source": [
    "BGMI = {\"KRAFTON\",90,\"JONATHON\",\"SCOUT\",0,\"GOOD\"}"
   ]
  },
  {
   "cell_type": "code",
   "execution_count": 2,
   "id": "0930d223",
   "metadata": {},
   "outputs": [
    {
     "data": {
      "text/plain": [
       "set"
      ]
     },
     "execution_count": 2,
     "metadata": {},
     "output_type": "execute_result"
    }
   ],
   "source": [
    "type(BGMI)"
   ]
  },
  {
   "cell_type": "code",
   "execution_count": 4,
   "id": "3e72567e",
   "metadata": {},
   "outputs": [
    {
     "data": {
      "text/plain": [
       "4"
      ]
     },
     "execution_count": 4,
     "metadata": {},
     "output_type": "execute_result"
    }
   ],
   "source": [
    "len(\"FOOD\")"
   ]
  },
  {
   "cell_type": "code",
   "execution_count": 5,
   "id": "6c83e351",
   "metadata": {},
   "outputs": [],
   "source": [
    "VOLORANT = {\"NEW STAR\",\"NEW STAR\",66,88,99,87}"
   ]
  },
  {
   "cell_type": "code",
   "execution_count": 6,
   "id": "5b7f9e2a",
   "metadata": {},
   "outputs": [
    {
     "ename": "NameError",
     "evalue": "name 'VOLORNT' is not defined",
     "output_type": "error",
     "traceback": [
      "\u001b[1;31m---------------------------------------------------------------------------\u001b[0m",
      "\u001b[1;31mNameError\u001b[0m                                 Traceback (most recent call last)",
      "Cell \u001b[1;32mIn[6], line 1\u001b[0m\n\u001b[1;32m----> 1\u001b[0m \u001b[43mVOLORNT\u001b[49m\u001b[38;5;241m.\u001b[39mupdate({\u001b[38;5;124m\"\u001b[39m\u001b[38;5;124mrockstar\u001b[39m\u001b[38;5;124m\"\u001b[39m,\u001b[38;5;124m\"\u001b[39m\u001b[38;5;124mtencent\u001b[39m\u001b[38;5;124m\"\u001b[39m})\n",
      "\u001b[1;31mNameError\u001b[0m: name 'VOLORNT' is not defined"
     ]
    }
   ],
   "source": [
    "VOLORNT.update({\"rockstar\",\"tencent\"})"
   ]
  },
  {
   "cell_type": "code",
   "execution_count": 9,
   "id": "6c5482a6",
   "metadata": {},
   "outputs": [
    {
     "data": {
      "text/plain": [
       "66"
      ]
     },
     "execution_count": 9,
     "metadata": {},
     "output_type": "execute_result"
    }
   ],
   "source": [
    "VOLORANT.pop()"
   ]
  },
  {
   "cell_type": "code",
   "execution_count": 10,
   "id": "c0bc122d",
   "metadata": {},
   "outputs": [
    {
     "data": {
      "text/plain": [
       "{0, 87, 88, 90, 99, 'GOOD', 'JONATHON', 'KRAFTON', 'NEW STAR', 'SCOUT'}"
      ]
     },
     "execution_count": 10,
     "metadata": {},
     "output_type": "execute_result"
    }
   ],
   "source": [
    "BGMI|VOLORANT"
   ]
  },
  {
   "cell_type": "code",
   "execution_count": 11,
   "id": "f2ea97c6",
   "metadata": {},
   "outputs": [
    {
     "data": {
      "text/plain": [
       "{0, 90, 'GOOD', 'JONATHON', 'KRAFTON', 'SCOUT'}"
      ]
     },
     "execution_count": 11,
     "metadata": {},
     "output_type": "execute_result"
    }
   ],
   "source": [
    "BGMI-VOLORANT"
   ]
  },
  {
   "cell_type": "markdown",
   "id": "82965429",
   "metadata": {},
   "source": [
    "# FROZEN"
   ]
  },
  {
   "cell_type": "code",
   "execution_count": 12,
   "id": "85fe1281",
   "metadata": {},
   "outputs": [],
   "source": [
    "LAB = frozenset({1,2,3,\"computer\",\"monitor\",\"cpu\"})\n"
   ]
  },
  {
   "cell_type": "code",
   "execution_count": 13,
   "id": "8dbd4697",
   "metadata": {},
   "outputs": [],
   "source": [
    "FOREST = frozenset({7,8,9,\"monkey\",\"frog\"})"
   ]
  },
  {
   "cell_type": "code",
   "execution_count": 14,
   "id": "ab1589b8",
   "metadata": {},
   "outputs": [
    {
     "data": {
      "text/plain": [
       "frozenset({1, 2, 3, 7, 8, 9, 'computer', 'cpu', 'frog', 'monitor', 'monkey'})"
      ]
     },
     "execution_count": 14,
     "metadata": {},
     "output_type": "execute_result"
    }
   ],
   "source": [
    "LAB|FOREST"
   ]
  },
  {
   "cell_type": "code",
   "execution_count": 15,
   "id": "a0b15e92",
   "metadata": {},
   "outputs": [
    {
     "data": {
      "text/plain": [
       "frozenset()"
      ]
     },
     "execution_count": 15,
     "metadata": {},
     "output_type": "execute_result"
    }
   ],
   "source": [
    "LAB&FOREST"
   ]
  },
  {
   "cell_type": "code",
   "execution_count": 16,
   "id": "353de7c8",
   "metadata": {},
   "outputs": [
    {
     "data": {
      "text/plain": [
       "frozenset({1, 2, 3, 'computer', 'cpu', 'monitor'})"
      ]
     },
     "execution_count": 16,
     "metadata": {},
     "output_type": "execute_result"
    }
   ],
   "source": [
    "LAB-FOREST"
   ]
  },
  {
   "cell_type": "markdown",
   "id": "3bd8fe66",
   "metadata": {},
   "source": [
    "# dictionary"
   ]
  },
  {
   "cell_type": "code",
   "execution_count": 3,
   "id": "5138aa22",
   "metadata": {},
   "outputs": [],
   "source": [
    "apple = {\"study\":\"learning\",\"lazy\":\"cat\",\"friendly\":\"dog\"}"
   ]
  },
  {
   "cell_type": "code",
   "execution_count": 4,
   "id": "858587d6",
   "metadata": {},
   "outputs": [
    {
     "data": {
      "text/plain": [
       "{'study': 'learning', 'lazy': 'cat', 'friendly': 'dog'}"
      ]
     },
     "execution_count": 4,
     "metadata": {},
     "output_type": "execute_result"
    }
   ],
   "source": [
    "apple"
   ]
  },
  {
   "cell_type": "code",
   "execution_count": 5,
   "id": "50451b91",
   "metadata": {},
   "outputs": [
    {
     "data": {
      "text/plain": [
       "dict"
      ]
     },
     "execution_count": 5,
     "metadata": {},
     "output_type": "execute_result"
    }
   ],
   "source": [
    "type(apple\n",
    ")"
   ]
  },
  {
   "cell_type": "code",
   "execution_count": 6,
   "id": "c9073f41",
   "metadata": {},
   "outputs": [
    {
     "data": {
      "text/plain": [
       "3"
      ]
     },
     "execution_count": 6,
     "metadata": {},
     "output_type": "execute_result"
    }
   ],
   "source": [
    "len(apple)"
   ]
  },
  {
   "cell_type": "code",
   "execution_count": 7,
   "id": "bb2d1727",
   "metadata": {},
   "outputs": [
    {
     "data": {
      "text/plain": [
       "dict_keys(['study', 'lazy', 'friendly'])"
      ]
     },
     "execution_count": 7,
     "metadata": {},
     "output_type": "execute_result"
    }
   ],
   "source": [
    "apple.keys()"
   ]
  },
  {
   "cell_type": "code",
   "execution_count": 9,
   "id": "7eb00f07",
   "metadata": {},
   "outputs": [
    {
     "data": {
      "text/plain": [
       "dict_values(['learning', 'cat', 'dog'])"
      ]
     },
     "execution_count": 9,
     "metadata": {},
     "output_type": "execute_result"
    }
   ],
   "source": [
    "apple.values()"
   ]
  },
  {
   "cell_type": "code",
   "execution_count": 10,
   "id": "672d3d03",
   "metadata": {},
   "outputs": [
    {
     "data": {
      "text/plain": [
       "dict_items([('study', 'learning'), ('lazy', 'cat'), ('friendly', 'dog')])"
      ]
     },
     "execution_count": 10,
     "metadata": {},
     "output_type": "execute_result"
    }
   ],
   "source": [
    "apple.items()"
   ]
  },
  {
   "cell_type": "markdown",
   "id": "10610205",
   "metadata": {},
   "source": [
    "# accessing key value to dictionary"
   ]
  },
  {
   "cell_type": "code",
   "execution_count": 11,
   "id": "3b9dcdc9",
   "metadata": {},
   "outputs": [],
   "source": [
    "apple[\"adhi\"] = \"monkey\""
   ]
  },
  {
   "cell_type": "code",
   "execution_count": 12,
   "id": "e6d4fd20",
   "metadata": {},
   "outputs": [
    {
     "data": {
      "text/plain": [
       "'learning'"
      ]
     },
     "execution_count": 12,
     "metadata": {},
     "output_type": "execute_result"
    }
   ],
   "source": [
    "apple.pop(\"study\")"
   ]
  },
  {
   "cell_type": "code",
   "execution_count": null,
   "id": "7e9601cf",
   "metadata": {},
   "outputs": [],
   "source": []
  }
 ],
 "metadata": {
  "kernelspec": {
   "display_name": "Python 3 (ipykernel)",
   "language": "python",
   "name": "python3"
  },
  "language_info": {
   "codemirror_mode": {
    "name": "ipython",
    "version": 3
   },
   "file_extension": ".py",
   "mimetype": "text/x-python",
   "name": "python",
   "nbconvert_exporter": "python",
   "pygments_lexer": "ipython3",
   "version": "3.9.13"
  }
 },
 "nbformat": 4,
 "nbformat_minor": 5
}
