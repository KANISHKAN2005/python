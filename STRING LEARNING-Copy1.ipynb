{
 "cells": [
  {
   "cell_type": "markdown",
   "id": "4fd4ae82",
   "metadata": {},
   "source": [
    "# STRING LEARNING\n"
   ]
  },
  {
   "cell_type": "code",
   "execution_count": 11,
   "id": "62ee9187",
   "metadata": {},
   "outputs": [
    {
     "name": "stdout",
     "output_type": "stream",
     "text": [
      "D       j\n"
     ]
    }
   ],
   "source": [
    "print(\"D       j\" )"
   ]
  },
  {
   "cell_type": "code",
   "execution_count": 13,
   "id": "d486ff61",
   "metadata": {},
   "outputs": [
    {
     "name": "stdout",
     "output_type": "stream",
     "text": [
      "BALL1\n"
     ]
    }
   ],
   "source": [
    "print(\"BALL1\")"
   ]
  },
  {
   "cell_type": "code",
   "execution_count": 16,
   "id": "85fd37db",
   "metadata": {},
   "outputs": [
    {
     "ename": "SyntaxError",
     "evalue": "invalid syntax (2483613044.py, line 1)",
     "output_type": "error",
     "traceback": [
      "\u001b[1;36m  File \u001b[1;32m\"C:\\Users\\aedpu\\AppData\\Local\\Temp\\ipykernel_3352\\2483613044.py\"\u001b[1;36m, line \u001b[1;32m1\u001b[0m\n\u001b[1;33m    print\"my jersy number is: 7+18\"\u001b[0m\n\u001b[1;37m         ^\u001b[0m\n\u001b[1;31mSyntaxError\u001b[0m\u001b[1;31m:\u001b[0m invalid syntax\n"
     ]
    }
   ],
   "source": [
    "print\"my jersy number is: 7+18\""
   ]
  },
  {
   "cell_type": "code",
   "execution_count": 20,
   "id": "5cb80648",
   "metadata": {},
   "outputs": [
    {
     "name": "stdout",
     "output_type": "stream",
     "text": [
      "goodmorning\n"
     ]
    }
   ],
   "source": [
    "print(\"good{}\".format('morning'))"
   ]
  },
  {
   "cell_type": "code",
   "execution_count": 25,
   "id": "a760d642",
   "metadata": {},
   "outputs": [
    {
     "name": "stdout",
     "output_type": "stream",
     "text": [
      "jhonesburg captain is f4f\n"
     ]
    }
   ],
   "source": [
    "print(\"jhonesburg captain is {}\".format(\"f4f\"))"
   ]
  },
  {
   "cell_type": "code",
   "execution_count": null,
   "id": "1d4d1f56",
   "metadata": {},
   "outputs": [],
   "source": []
  }
 ],
 "metadata": {
  "kernelspec": {
   "display_name": "Python 3 (ipykernel)",
   "language": "python",
   "name": "python3"
  },
  "language_info": {
   "codemirror_mode": {
    "name": "ipython",
    "version": 3
   },
   "file_extension": ".py",
   "mimetype": "text/x-python",
   "name": "python",
   "nbconvert_exporter": "python",
   "pygments_lexer": "ipython3",
   "version": "3.9.16"
  }
 },
 "nbformat": 4,
 "nbformat_minor": 5
}
