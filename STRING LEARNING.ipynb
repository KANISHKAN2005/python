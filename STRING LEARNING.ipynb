{
 "cells": [
  {
   "cell_type": "markdown",
   "id": "ac1edd97",
   "metadata": {},
   "source": [
    "# STRING LEARNING\n"
   ]
  },
  {
   "cell_type": "code",
   "execution_count": 11,
   "id": "fa60aed8",
   "metadata": {},
   "outputs": [
    {
     "name": "stdout",
     "output_type": "stream",
     "text": [
      "D       j\n"
     ]
    }
   ],
   "source": [
    "print(\"D       j\" )"
   ]
  },
  {
   "cell_type": "code",
   "execution_count": 13,
   "id": "cbf6eac9",
   "metadata": {},
   "outputs": [
    {
     "name": "stdout",
     "output_type": "stream",
     "text": [
      "BALL1\n"
     ]
    }
   ],
   "source": [
    "print(\"BALL1\")"
   ]
  },
  {
   "cell_type": "code",
   "execution_count": 16,
   "id": "561a0731",
   "metadata": {},
   "outputs": [
    {
     "ename": "SyntaxError",
     "evalue": "invalid syntax (2483613044.py, line 1)",
     "output_type": "error",
     "traceback": [
      "\u001b[1;36m  File \u001b[1;32m\"C:\\Users\\aedpu\\AppData\\Local\\Temp\\ipykernel_3352\\2483613044.py\"\u001b[1;36m, line \u001b[1;32m1\u001b[0m\n\u001b[1;33m    print\"my jersy number is: 7+18\"\u001b[0m\n\u001b[1;37m         ^\u001b[0m\n\u001b[1;31mSyntaxError\u001b[0m\u001b[1;31m:\u001b[0m invalid syntax\n"
     ]
    }
   ],
   "source": [
    "print\"my jersy number is: 7+18\""
   ]
  },
  {
   "cell_type": "code",
   "execution_count": 20,
   "id": "e90ffdcc",
   "metadata": {},
   "outputs": [
    {
     "name": "stdout",
     "output_type": "stream",
     "text": [
      "goodmorning\n"
     ]
    }
   ],
   "source": [
    "print(\"good{}\".format('morning'))"
   ]
  },
  {
   "cell_type": "code",
   "execution_count": 25,
   "id": "0f5edc7f",
   "metadata": {},
   "outputs": [
    {
     "name": "stdout",
     "output_type": "stream",
     "text": [
      "jhonesburg captain is f4f\n"
     ]
    }
   ],
   "source": [
    "print(\"jhonesburg captain is {}\".format(\"f4f\"))"
   ]
  },
  {
   "cell_type": "code",
   "execution_count": 30,
   "id": "f56f2088",
   "metadata": {},
   "outputs": [
    {
     "name": "stdout",
     "output_type": "stream",
     "text": [
      "today session start after 5pm so please attend on time\n"
     ]
    }
   ],
   "source": [
    "print(\"today session start after {4} {3} {2} {1} {0}\".format('time','on','attend','so please','5pm') )"
   ]
  },
  {
   "cell_type": "code",
   "execution_count": null,
   "id": "9150ba86",
   "metadata": {},
   "outputs": [],
   "source": [
    "print(\"today session start after {4} {3} {2} {1} {0}\".format('time','on','attend','so please','5pm') )"
   ]
  },
  {
   "cell_type": "code",
   "execution_count": 33,
   "id": "350703d6",
   "metadata": {},
   "outputs": [
    {
     "name": "stdout",
     "output_type": "stream",
     "text": [
      "bgmi was banned in india so krafton company rescarching the problem why bgmi is  banned\n"
     ]
    }
   ],
   "source": [
    "print(\"bgmi was {o} in india so krafton company rescarching the problem why bgmi is  {o}\".format(o = 'banned'))"
   ]
  },
  {
   "cell_type": "code",
   "execution_count": null,
   "id": "4c50117d",
   "metadata": {},
   "outputs": [],
   "source": []
  }
 ],
 "metadata": {
  "kernelspec": {
   "display_name": "Python 3 (ipykernel)",
   "language": "python",
   "name": "python3"
  },
  "language_info": {
   "codemirror_mode": {
    "name": "ipython",
    "version": 3
   },
   "file_extension": ".py",
   "mimetype": "text/x-python",
   "name": "python",
   "nbconvert_exporter": "python",
   "pygments_lexer": "ipython3",
   "version": "3.9.16"
  }
 },
 "nbformat": 4,
 "nbformat_minor": 5
}
