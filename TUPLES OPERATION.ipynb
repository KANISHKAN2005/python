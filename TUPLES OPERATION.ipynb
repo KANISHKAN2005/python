{
 "cells": [
  {
   "cell_type": "code",
   "execution_count": 3,
   "id": "1fd47d4d",
   "metadata": {},
   "outputs": [],
   "source": [
    "old = (\"but\",1,2,3,\"gold\",2,4,6) \n",
    "\n",
    "\n",
    "\n",
    "\n",
    "\n",
    "\n",
    "\n"
   ]
  },
  {
   "cell_type": "code",
   "execution_count": 4,
   "id": "079a9b78",
   "metadata": {},
   "outputs": [
    {
     "data": {
      "text/plain": [
       "tuple"
      ]
     },
     "execution_count": 4,
     "metadata": {},
     "output_type": "execute_result"
    }
   ],
   "source": [
    "type(new)"
   ]
  },
  {
   "cell_type": "code",
   "execution_count": 6,
   "id": "432b373f",
   "metadata": {},
   "outputs": [],
   "source": [
    "new = [\"old\",1,2,3,\"helo\",2,4,6]\n"
   ]
  },
  {
   "cell_type": "code",
   "execution_count": 7,
   "id": "8643a55a",
   "metadata": {},
   "outputs": [
    {
     "data": {
      "text/plain": [
       "list"
      ]
     },
     "execution_count": 7,
     "metadata": {},
     "output_type": "execute_result"
    }
   ],
   "source": [
    "type(new)"
   ]
  },
  {
   "cell_type": "code",
   "execution_count": 9,
   "id": "9963b2b6",
   "metadata": {
    "scrolled": true
   },
   "outputs": [
    {
     "data": {
      "text/plain": [
       "['old', 1]"
      ]
     },
     "execution_count": 9,
     "metadata": {},
     "output_type": "execute_result"
    }
   ],
   "source": [
    "\n",
    "new[:2]"
   ]
  },
  {
   "cell_type": "code",
   "execution_count": 11,
   "id": "6796ac9e",
   "metadata": {},
   "outputs": [
    {
     "data": {
      "text/plain": [
       "0"
      ]
     },
     "execution_count": 11,
     "metadata": {},
     "output_type": "execute_result"
    }
   ],
   "source": [
    "new.count(5) "
   ]
  },
  {
   "cell_type": "code",
   "execution_count": null,
   "id": "9a0b09be",
   "metadata": {},
   "outputs": [],
   "source": []
  }
 ],
 "metadata": {
  "kernelspec": {
   "display_name": "Python 3 (ipykernel)",
   "language": "python",
   "name": "python3"
  },
  "language_info": {
   "codemirror_mode": {
    "name": "ipython",
    "version": 3
   },
   "file_extension": ".py",
   "mimetype": "text/x-python",
   "name": "python",
   "nbconvert_exporter": "python",
   "pygments_lexer": "ipython3",
   "version": "3.9.16"
  }
 },
 "nbformat": 4,
 "nbformat_minor": 5
}
