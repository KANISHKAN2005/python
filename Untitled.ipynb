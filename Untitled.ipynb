{
 "cells": [
  {
   "cell_type": "code",
   "execution_count": null,
   "id": "ebd512cf",
   "metadata": {},
   "outputs": [
    {
     "name": "stdout",
     "output_type": "stream",
     "text": [
      " * Serving Flask app \"__main__\" (lazy loading)\n",
      " * Environment: production\n",
      "\u001b[31m   WARNING: This is a development server. Do not use it in a production deployment.\u001b[0m\n",
      "\u001b[2m   Use a production WSGI server instead.\u001b[0m\n",
      " * Debug mode: off\n"
     ]
    },
    {
     "name": "stderr",
     "output_type": "stream",
     "text": [
      " * Running on http://127.0.0.1:5000/ (Press CTRL+C to quit)\n",
      "127.0.0.1 - - [25/Apr/2023 11:01:07] \"GET / HTTP/1.1\" 200 -\n",
      "127.0.0.1 - - [25/Apr/2023 11:01:15] \"GET /scholarship HTTP/1.1\" 200 -\n",
      "127.0.0.1 - - [25/Apr/2023 11:05:22] \"POST /success HTTP/1.1\" 200 -\n"
     ]
    }
   ],
   "source": [
    "from flask import Flask, render_template, flash, redirect, url_for, session \n",
    " \n",
    "app = Flask(__name__) \n",
    "app.config['SECRET_KEY']='some_random_secret' \n",
    " \n",
    "@app.route(\"/\") \n",
    "def index(): \n",
    "    return render_template(\"index1 DB copy.html\") \n",
    " \n",
    "@app.route(\"/scholarship\") \n",
    "def scholarship(): \n",
    "    return render_template(\"form.html\") \n",
    " \n",
    "@app.route(\"/success\", methods=['POST', 'GET']) \n",
    "def ssuccess(): \n",
    "    return render_template(\"Success.html\") \n",
    " \n",
    "if __name__ == '__main__': \n",
    "    app.run()"
   ]
  },
  {
   "cell_type": "code",
   "execution_count": null,
   "id": "277a2e31",
   "metadata": {},
   "outputs": [],
   "source": []
  }
 ],
 "metadata": {
  "kernelspec": {
   "display_name": "Python 3 (ipykernel)",
   "language": "python",
   "name": "python3"
  },
  "language_info": {
   "codemirror_mode": {
    "name": "ipython",
    "version": 3
   },
   "file_extension": ".py",
   "mimetype": "text/x-python",
   "name": "python",
   "nbconvert_exporter": "python",
   "pygments_lexer": "ipython3",
   "version": "3.9.13"
  }
 },
 "nbformat": 4,
 "nbformat_minor": 5
}
