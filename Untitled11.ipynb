{
 "cells": [
  {
   "cell_type": "code",
   "execution_count": 1,
   "id": "e3b499dc",
   "metadata": {},
   "outputs": [],
   "source": [
    "import tkinter as tk"
   ]
  },
  {
   "cell_type": "code",
   "execution_count": 2,
   "id": "ae69fc51",
   "metadata": {},
   "outputs": [],
   "source": [
    "root = tk.Tk()"
   ]
  },
  {
   "cell_type": "code",
   "execution_count": 3,
   "id": "8d594c18",
   "metadata": {},
   "outputs": [],
   "source": [
    "def myclick():\n",
    "    mylabel4 = tk.Label(root, text=\"clicked on button\")\n",
    "    mylabel4.pack()"
   ]
  },
  {
   "cell_type": "code",
   "execution_count": 4,
   "id": "a75001e6",
   "metadata": {},
   "outputs": [],
   "source": [
    "mybutton = tk.Button(root, text =\"click me\",command = myclick)"
   ]
  },
  {
   "cell_type": "code",
   "execution_count": 6,
   "id": "ebb29c33",
   "metadata": {},
   "outputs": [],
   "source": [
    "mybutton = tk.Button(root, text =\"hello\",command = myclick, fg='blue',bg='red')"
   ]
  },
  {
   "cell_type": "code",
   "execution_count": 7,
   "id": "439e40b5",
   "metadata": {},
   "outputs": [],
   "source": [
    "mybutton = tk.Button(root, text =\"open\",command = myclick, fg='yellow',bg='black')"
   ]
  },
  {
   "cell_type": "code",
   "execution_count": 8,
   "id": "2612f02f",
   "metadata": {},
   "outputs": [],
   "source": [
    "mybutton = tk.Button(root, text =\"hai\",command = myclick, fg='purple',bg='white')"
   ]
  },
  {
   "cell_type": "code",
   "execution_count": 9,
   "id": "2177de50",
   "metadata": {},
   "outputs": [],
   "source": [
    "mybutton.pack()"
   ]
  },
  {
   "cell_type": "raw",
   "id": "aaace955",
   "metadata": {},
   "source": [
    "def myclick():\n",
    "    mylabel4 = "
   ]
  },
  {
   "cell_type": "code",
   "execution_count": null,
   "id": "61116951",
   "metadata": {},
   "outputs": [],
   "source": []
  },
  {
   "cell_type": "code",
   "execution_count": null,
   "id": "f8e72d2d",
   "metadata": {},
   "outputs": [],
   "source": []
  }
 ],
 "metadata": {
  "kernelspec": {
   "display_name": "Python 3 (ipykernel)",
   "language": "python",
   "name": "python3"
  },
  "language_info": {
   "codemirror_mode": {
    "name": "ipython",
    "version": 3
   },
   "file_extension": ".py",
   "mimetype": "text/x-python",
   "name": "python",
   "nbconvert_exporter": "python",
   "pygments_lexer": "ipython3",
   "version": "3.9.13"
  }
 },
 "nbformat": 4,
 "nbformat_minor": 5
}
