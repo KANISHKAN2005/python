{
 "cells": [
  {
   "cell_type": "markdown",
   "id": "b7b55cec",
   "metadata": {},
   "source": [
    "# create a snake game"
   ]
  },
  {
   "cell_type": "markdown",
   "id": "c1ce7b01",
   "metadata": {},
   "source": [
    "# importing lib"
   ]
  },
  {
   "cell_type": "code",
   "execution_count": 1,
   "id": "f666965a",
   "metadata": {},
   "outputs": [
    {
     "name": "stdout",
     "output_type": "stream",
     "text": [
      "Requirement already satisfied: game in c:\\users\\aedpu\\anaconda3\\lib\\site-packages (0.0.5)\n",
      "Note: you may need to restart the kernel to use updated packages.\n"
     ]
    }
   ],
   "source": []
  },
  {
   "cell_type": "code",
   "execution_count": 1,
   "id": "b8e26ae2",
   "metadata": {},
   "outputs": [
    {
     "name": "stdout",
     "output_type": "stream",
     "text": [
      "pygame 2.3.0 (SDL 2.24.2, Python 3.9.13)\n",
      "Hello from the pygame community. https://www.pygame.org/contribute.html\n"
     ]
    }
   ],
   "source": [
    "import pygame\n",
    "import time\n",
    "import random"
   ]
  },
  {
   "cell_type": "markdown",
   "id": "27a57e36",
   "metadata": {},
   "source": [
    "# setting snake speed"
   ]
  },
  {
   "cell_type": "code",
   "execution_count": 2,
   "id": "bf0dbf16",
   "metadata": {},
   "outputs": [],
   "source": [
    "snake_speed = 15"
   ]
  },
  {
   "cell_type": "markdown",
   "id": "30e201d2",
   "metadata": {},
   "source": [
    "# size"
   ]
  },
  {
   "cell_type": "code",
   "execution_count": 3,
   "id": "433a967b",
   "metadata": {},
   "outputs": [],
   "source": [
    "window_x = 720\n",
    "window_y = 480"
   ]
  },
  {
   "cell_type": "markdown",
   "id": "fdb71b88",
   "metadata": {},
   "source": [
    "# defining colour"
   ]
  },
  {
   "cell_type": "code",
   "execution_count": 4,
   "id": "bf1f1b04",
   "metadata": {},
   "outputs": [],
   "source": [
    "black = pygame.Color(0, 0, 0)\n",
    "white = pygame.Color(255, 255, 255)\n",
    "red = pygame.Color(255, 0, 0)\n",
    "green = pygame.Color(0, 255, 0)\n",
    "blue = pygame.Color(0, 0, 255)"
   ]
  },
  {
   "cell_type": "markdown",
   "id": "a16135d2",
   "metadata": {},
   "source": [
    "# initialing pygame"
   ]
  },
  {
   "cell_type": "code",
   "execution_count": 5,
   "id": "437a18fd",
   "metadata": {},
   "outputs": [
    {
     "data": {
      "text/plain": [
       "(4, 1)"
      ]
     },
     "execution_count": 5,
     "metadata": {},
     "output_type": "execute_result"
    }
   ],
   "source": [
    "pygame.init()"
   ]
  },
  {
   "cell_type": "markdown",
   "id": "052ebd38",
   "metadata": {},
   "source": [
    "# game window"
   ]
  },
  {
   "cell_type": "code",
   "execution_count": 6,
   "id": "14f2506b",
   "metadata": {},
   "outputs": [],
   "source": [
    "pygame.display.set_caption('Snakes')\n",
    "game_window = pygame.display.set_mode((window_x, window_y))"
   ]
  },
  {
   "cell_type": "markdown",
   "id": "5cd75f87",
   "metadata": {},
   "source": [
    "# Setting fps controller"
   ]
  },
  {
   "cell_type": "code",
   "execution_count": 7,
   "id": "98b2cbf7",
   "metadata": {},
   "outputs": [],
   "source": [
    "fps = pygame.time.Clock()"
   ]
  },
  {
   "cell_type": "markdown",
   "id": "f2b6cdfc",
   "metadata": {},
   "source": [
    "# defing snake default position"
   ]
  },
  {
   "cell_type": "code",
   "execution_count": 8,
   "id": "33c2aa0c",
   "metadata": {},
   "outputs": [],
   "source": [
    "snake_position =[100, 50]"
   ]
  },
  {
   "cell_type": "markdown",
   "id": "8a2f1e85",
   "metadata": {},
   "source": [
    "# defining first 4 snake body parts"
   ]
  },
  {
   "cell_type": "code",
   "execution_count": 9,
   "id": "d33f6409",
   "metadata": {},
   "outputs": [],
   "source": [
    "snake_body = [[100, 50],\n",
    " [90, 50],\n",
    " [80, 50],\n",
    " [70, 50]\n",
    " ]"
   ]
  },
  {
   "cell_type": "markdown",
   "id": "1f2f782d",
   "metadata": {},
   "source": [
    "# fruit position"
   ]
  },
  {
   "cell_type": "code",
   "execution_count": 10,
   "id": "11063dea",
   "metadata": {},
   "outputs": [],
   "source": [
    "fruit_position = [random.randrange(1, (window_x//10)) * 10,\n",
    "                  random.randrange(1, (window_x//10)) * 10,] \n",
    "\n",
    "fruit_spawn = True"
   ]
  },
  {
   "cell_type": "markdown",
   "id": "19321105",
   "metadata": {},
   "source": [
    "# setting default snake direction"
   ]
  },
  {
   "cell_type": "code",
   "execution_count": 11,
   "id": "f6136f93",
   "metadata": {},
   "outputs": [],
   "source": [
    "direction = 'RIGHT'\n",
    "change = direction"
   ]
  },
  {
   "cell_type": "markdown",
   "id": "71c45802",
   "metadata": {},
   "source": [
    "# set initial score"
   ]
  },
  {
   "cell_type": "code",
   "execution_count": 12,
   "id": "ad240678",
   "metadata": {},
   "outputs": [],
   "source": [
    " score = 0"
   ]
  },
  {
   "cell_type": "markdown",
   "id": "47b386c1",
   "metadata": {},
   "source": [
    "# function score display"
   ]
  },
  {
   "cell_type": "code",
   "execution_count": 13,
   "id": "e63e1c81",
   "metadata": {},
   "outputs": [],
   "source": [
    "def show_score(choice, color, font, size):\n",
    "    \n",
    "    score_surface = pygame.font.sysfont(font, size)\n",
    "    \n",
    "    score_surface = score_font.render('Score :' + str(score), True, color)\n",
    "    \n",
    "    score_rect = score_surface.get_rect()\n",
    "    \n",
    "    game_window.blit(score_surface, score_rect)"
   ]
  },
  {
   "cell_type": "markdown",
   "id": "5a86ee6d",
   "metadata": {},
   "source": [
    "# function game over"
   ]
  },
  {
   "cell_type": "code",
   "execution_count": 14,
   "id": "da3c2211",
   "metadata": {},
   "outputs": [],
   "source": [
    "def game_over():\n",
    "    \n",
    "\n",
    " # creating font object my_font\n",
    "    my_font = pygame.font.SysFont('times new roman', 50)\n",
    "\n",
    " # creating a text surface on which text\n",
    " # will be drawn\n",
    "    game_over_surface = my_font.render(\n",
    "    'Your Score is : ' + str(score), True, red)\n",
    "\n",
    " # create a rectangular object for the text\n",
    " # surface object\n",
    "    game_over_rect = game_over_surface.get_rect()\n",
    "\n",
    " # setting position of the text\n",
    "    game_over_rect.midtop = (window_x/2, window_y/4)\n",
    "\n",
    " # blit wil draw the text on screen\n",
    "    game_window.blit(game_over_surface, game_over_rect)\n",
    "    pygame.display.flip()\n",
    "\n",
    " # after 2 seconds we will quit the program\n",
    "    time.sleep(2)\n",
    "\n",
    " # deactivating pygame library\n",
    "    pygame.quit()\n",
    "\n",
    " # quit the program\n",
    "    quit()"
   ]
  },
  {
   "cell_type": "code",
   "execution_count": 18,
   "id": "9b9fe1ac",
   "metadata": {},
   "outputs": [
    {
     "ename": "TypeError",
     "evalue": "an integer is required (got type pygame.rect.Rect)",
     "output_type": "error",
     "traceback": [
      "\u001b[1;31m---------------------------------------------------------------------------\u001b[0m",
      "\u001b[1;31mTypeError\u001b[0m                                 Traceback (most recent call last)",
      "\u001b[1;32m~\\AppData\\Local\\Temp\\ipykernel_7412\\498866341.py\u001b[0m in \u001b[0;36m<module>\u001b[1;34m\u001b[0m\n\u001b[0;32m     52\u001b[0m \u001b[1;33m\u001b[0m\u001b[0m\n\u001b[0;32m     53\u001b[0m     \u001b[1;32mfor\u001b[0m \u001b[0mpos\u001b[0m \u001b[1;32min\u001b[0m \u001b[0msnake_body\u001b[0m\u001b[1;33m:\u001b[0m\u001b[1;33m\u001b[0m\u001b[1;33m\u001b[0m\u001b[0m\n\u001b[1;32m---> 54\u001b[1;33m             \u001b[0mpygame\u001b[0m\u001b[1;33m.\u001b[0m\u001b[0mdraw\u001b[0m\u001b[1;33m.\u001b[0m\u001b[0mrect\u001b[0m\u001b[1;33m(\u001b[0m\u001b[0mgame_window\u001b[0m\u001b[1;33m,\u001b[0m \u001b[0mwhite\u001b[0m\u001b[1;33m,\u001b[0m \u001b[0mgreen\u001b[0m\u001b[1;33m,\u001b[0m \u001b[0mpygame\u001b[0m\u001b[1;33m.\u001b[0m\u001b[0mRect\u001b[0m\u001b[1;33m(\u001b[0m\u001b[0mpos\u001b[0m\u001b[1;33m[\u001b[0m\u001b[1;36m0\u001b[0m\u001b[1;33m]\u001b[0m\u001b[1;33m,\u001b[0m \u001b[0mpos\u001b[0m\u001b[1;33m[\u001b[0m\u001b[1;36m1\u001b[0m\u001b[1;33m]\u001b[0m\u001b[1;33m,\u001b[0m \u001b[1;36m10\u001b[0m\u001b[1;33m,\u001b[0m \u001b[1;36m10\u001b[0m\u001b[1;33m)\u001b[0m\u001b[1;33m)\u001b[0m\u001b[1;33m\u001b[0m\u001b[1;33m\u001b[0m\u001b[0m\n\u001b[0m\u001b[0;32m     55\u001b[0m             \u001b[0mpygame\u001b[0m\u001b[1;33m.\u001b[0m\u001b[0mdraw\u001b[0m\u001b[1;33m.\u001b[0m\u001b[0mrect\u001b[0m\u001b[1;33m(\u001b[0m\u001b[0mgame_window\u001b[0m\u001b[1;33m,\u001b[0m \u001b[0mwhite\u001b[0m\u001b[1;33m,\u001b[0m \u001b[0mgreen\u001b[0m\u001b[1;33m,\u001b[0m\u001b[0mpygame\u001b[0m\u001b[1;33m.\u001b[0m\u001b[0mRect\u001b[0m\u001b[1;33m(\u001b[0m\u001b[0mfruit_position\u001b[0m\u001b[1;33m[\u001b[0m\u001b[1;36m0\u001b[0m\u001b[1;33m]\u001b[0m\u001b[1;33m,\u001b[0m \u001b[0mfruit_position\u001b[0m\u001b[1;33m[\u001b[0m\u001b[1;36m1\u001b[0m\u001b[1;33m]\u001b[0m\u001b[1;33m,\u001b[0m \u001b[1;36m10\u001b[0m\u001b[1;33m,\u001b[0m \u001b[1;36m10\u001b[0m\u001b[1;33m)\u001b[0m\u001b[1;33m)\u001b[0m\u001b[1;33m\u001b[0m\u001b[1;33m\u001b[0m\u001b[0m\n\u001b[0;32m     56\u001b[0m \u001b[1;33m\u001b[0m\u001b[0m\n",
      "\u001b[1;31mTypeError\u001b[0m: an integer is required (got type pygame.rect.Rect)"
     ]
    }
   ],
   "source": [
    "while True:\n",
    "    \n",
    "    for event in pygame.event.get():\n",
    "        \n",
    "\n",
    "        if event.type == pygame.KEYDOWN:\n",
    "            \n",
    "            if event.key == pygame.k_UP:\n",
    "                \n",
    "                change_to= 'UP'\n",
    "            if event.key == pygame.k_DOWN:\n",
    "                \n",
    "                change_to= 'DOWN'\n",
    "            if event.key == pygame.k_LEFT:\n",
    "                change_to= 'LEFT'\n",
    "            if event.key == pygame.k_RIGHT:\n",
    "                change_to= 'RIGHT'\n",
    "                   \n",
    "                \n",
    "            if change_to == 'UP' and direction != 'DOWN':\n",
    "                \n",
    "                direction = 'UP'\n",
    "            if change_to == 'DOWN' and direction != 'UP':\n",
    "                 direction = 'DOWN'\n",
    "            if change_to == 'LEFT' and direction != 'RIGHT':\n",
    "                 direction = 'LEFT'\n",
    "            if change_to == 'RIGHT' and direction != 'LEFT':\n",
    "                 direction = 'RIGHT'\n",
    "            \n",
    "    if direction == 'UP':\n",
    "        snake_position[1] -= 10\n",
    "    if direction == 'DOWN':\n",
    "        snake_position[1] += 10\n",
    "    if direction == 'LEFT':\n",
    "        snake_position[0] -= 10\n",
    "    if direction == 'RIGHT':\n",
    "        snake_position[0] += 10\n",
    "                \n",
    "                \n",
    "    snake_body.insert(0, list(snake_position))\n",
    "    if snake_body[0] == fruit_position[0] and snake_position[1] == fruit_position[1]:\n",
    "        score += False\n",
    "                \n",
    "    else:\n",
    "        snake_body.pop()\n",
    "    \n",
    "    if not fruit_spawn:\n",
    "        fruit_position = [random.randrange(1, (window_x//10)) *10,\n",
    "                          random.randrange(1, (window_x//10)) *10]\n",
    "        fruit_spawn = True\n",
    "        game_window.fill(black)\n",
    "        \n",
    "    for pos in snake_body:\n",
    "            pygame.draw.rect(game_window, white, green, pygame.Rect(pos[0], pos[1], 10, 10))\n",
    "            pygame.draw.rect(game_window, white, green,pygame.Rect(fruit_position[0], fruit_position[1], 10, 10))\n",
    "            \n",
    "            \n",
    "    if snake_position[0] < 0 or snake_position[0] > window_x-10:\n",
    "        game_over()\n",
    "    if snake_position[0] < 0 or snake_position[0] > window_y-10:    \n",
    "        game_over()\n",
    "            \n",
    "    for block in snake_body[1:]:\n",
    "        if snake_position[0] == block[0] and snake_position[1] == block[1]:\n",
    "                game_over()\n",
    "                \n",
    "        show_score(1, white, 'times new roman', 20)\n",
    "            \n",
    "        pygame.display.update()\n",
    "            \n",
    "        fps.tick(snake_speed)   \n",
    "                \n",
    "                \n",
    "                \n",
    "                "
   ]
  },
  {
   "cell_type": "code",
   "execution_count": null,
   "id": "b0eb439e",
   "metadata": {},
   "outputs": [],
   "source": []
  },
  {
   "cell_type": "code",
   "execution_count": null,
   "id": "3f4575ca",
   "metadata": {},
   "outputs": [],
   "source": []
  }
 ],
 "metadata": {
  "kernelspec": {
   "display_name": "Python 3 (ipykernel)",
   "language": "python",
   "name": "python3"
  },
  "language_info": {
   "codemirror_mode": {
    "name": "ipython",
    "version": 3
   },
   "file_extension": ".py",
   "mimetype": "text/x-python",
   "name": "python",
   "nbconvert_exporter": "python",
   "pygments_lexer": "ipython3",
   "version": "3.9.13"
  }
 },
 "nbformat": 4,
 "nbformat_minor": 5
}
