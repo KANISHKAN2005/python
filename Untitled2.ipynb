{
 "cells": [
  {
   "cell_type": "code",
   "execution_count": null,
   "id": "82bb70ff",
   "metadata": {},
   "outputs": [],
   "source": [
    "print(\"Welcome to the COVID vaccination form\")\n",
    "name = input(\"Please enter your name: \")\n",
    "age = int(input(\"Please enter your age: \"))\n",
    "\n",
    "if age >= 18:\n",
    "    print(\"For the following questions, please enter either 'yes' or 'no'\")\n",
    "    vac = input(\"Have you received your first vaccination shot? \")\n",
    "    trip = input(\"Have you traveled abroad? \")\n",
    "    sym = input(\"Have you had COVID symptoms in the last 14 days? \")\n",
    "    pos = input(\"Have you tested positive for COVID in the last week? \")\n",
    "else:\n",
    "    print(\"You are not old enough to get the vaccine.\")\n",
    "\n",
    "if vac == 'yes' and trip == 'no' and pos == 'no':\n",
    "    if sym == 'no':\n",
    "        print(\"You can get your second shot.\")\n",
    "    else:\n",
    "        print(\"You can get your second shot, but please consult a doctor if your symptoms persist.\")\n",
    "elif vac == 'yes' and pos == 'yes' and (trip == 'yes' or trip == 'no'):\n",
    "    print(\"As you have tested positive for COVID, please get vaccinated 3 months after a negative test result.\")\n",
    "elif vac == 'yes' and trip == 'yes' and pos == 'no':\n",
    "    if sym == 'no':\n",
    "        print(\"You can get your second shot.\")\n",
    "    else:\n",
    "        print(\"You can get your second shot, but please consult a doctor if your symptoms persist.\")\n",
    "elif vac == 'no' and trip == 'no' and pos == 'no':\n",
    "    if sym == 'no':\n",
    "        print(\"You can get your first shot.\")\n",
    "    else:\n",
    "        print(\"You can get your first shot, but please consult a doctor if your symptoms persist.\")\n",
    "elif vac == 'no' and pos == 'yes' and (trip == 'yes' or trip == 'no'):\n",
    "    print(\"As you have tested positive for COVID, please get vaccinated 3 months after a negative test result.\")\n",
    "elif vac == 'yes' and trip == 'yes' and pos == 'no':\n",
    "    if sym == 'no':\n",
    "        print(\"You can get your second shot.\")\n",
    "    else:\n",
    "        print(\"You can get your second shot, but please consult a doctor if your symptoms persist.\")\n",
    "else:\n",
    "    print(\"Invalid input. Please enter either 'yes' or 'no'.\")"
   ]
  }
 ],
 "metadata": {
  "kernelspec": {
   "display_name": "Python 3 (ipykernel)",
   "language": "python",
   "name": "python3"
  },
  "language_info": {
   "codemirror_mode": {
    "name": "ipython",
    "version": 3
   },
   "file_extension": ".py",
   "mimetype": "text/x-python",
   "name": "python",
   "nbconvert_exporter": "python",
   "pygments_lexer": "ipython3",
   "version": "3.9.16"
  }
 },
 "nbformat": 4,
 "nbformat_minor": 5
}
