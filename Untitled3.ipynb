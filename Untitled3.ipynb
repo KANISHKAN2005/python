{
 "cells": [
  {
   "cell_type": "code",
   "execution_count": 1,
   "id": "ce482c12",
   "metadata": {},
   "outputs": [
    {
     "name": "stdout",
     "output_type": "stream",
     "text": [
      "Welcome to the COVID vaccination form\n",
      "Please enter your name: kanishkan\n",
      "Please enter your age: 18\n",
      "For the following questions, please enter either 'yes' or 'no'\n",
      "Have you received your first vaccination shot? yes\n",
      "Have you traveled abroad? yes\n",
      "Have you had COVID symptoms in the last 14 days? no\n",
      "Have you tested positive for COVID in the last week? no\n",
      "You can get your second shot.\n"
     ]
    }
   ],
   "source": [
    "print(\"Welcome to the COVID vaccination form\")\n",
    "name = input(\"Please enter your name: \")\n",
    "age = int(input(\"Please enter your age: \"))\n",
    "\n",
    "if age >= 18:\n",
    "    print(\"For the following questions, please enter either 'yes' or 'no'\")\n",
    "    vac = input(\"Have you received your first vaccination shot? \")\n",
    "    trip = input(\"Have you traveled abroad? \")\n",
    "    sym = input(\"Have you had COVID symptoms in the last 14 days? \")\n",
    "    pos = input(\"Have you tested positive for COVID in the last week? \")\n",
    "else:\n",
    "    print(\"You are not old enough to get the vaccine.\")\n",
    "\n",
    "if vac == 'yes' and trip == 'no' and pos == 'no':\n",
    "    if sym == 'no':\n",
    "        print(\"You can get your second shot.\")\n",
    "    else:\n",
    "        print(\"You can get your second shot, but please consult a doctor if your symptoms persist.\")\n",
    "elif vac == 'yes' and pos == 'yes' and (trip == 'yes' or trip == 'no'):\n",
    "    print(\"As you have tested positive for COVID, please get vaccinated 3 months after a negative test result.\")\n",
    "elif vac == 'yes' and trip == 'yes' and pos == 'no':\n",
    "    if sym == 'no':\n",
    "        print(\"You can get your second shot.\")\n",
    "    else:\n",
    "        print(\"You can get your second shot, but please consult a doctor if your symptoms persist.\")\n",
    "elif vac == 'no' and trip == 'no' and pos == 'no':\n",
    "    if sym == 'no':\n",
    "        print(\"You can get your first shot.\")\n",
    "    else:\n",
    "        print(\"You can get your first shot, but please consult a doctor if your symptoms persist.\")\n",
    "elif vac == 'no' and pos == 'yes' and (trip == 'yes' or trip == 'no'):\n",
    "    print(\"As you have tested positive for COVID, please get vaccinated 3 months after a negative test result.\")\n",
    "elif vac == 'yes' and trip == 'yes' and pos == 'no':\n",
    "    if sym == 'no':\n",
    "        print(\"You can get your second shot.\")\n",
    "    else:\n",
    "        print(\"You can get your second shot, but please consult a doctor if your symptoms persist.\")\n",
    "else:\n",
    "    print(\"Invalid input. Please enter either 'yes' or 'no'.\")"
   ]
  },
  {
   "cell_type": "code",
   "execution_count": 2,
   "id": "8779e716",
   "metadata": {},
   "outputs": [
    {
     "name": "stdout",
     "output_type": "stream",
     "text": [
      "Welcome to the driving license application form\n",
      "Please enter your name: kanishkan\n",
      "Please enter your age: 18\n",
      "Are you a citizen of this country? yes\n",
      "Do you have a driver's license? no\n",
      "Do you have normal or corrected-to-normal vision? yes\n",
      "Have you ever been convicted of driving under the influence of alcohol or drugs? no\n",
      "Do you have any medical condition that would affect your driving ability? no\n",
      "Have you ever been convicted of a criminal offense? no\n",
      "You are eligible to apply for a driving license.\n"
     ]
    }
   ],
   "source": [
    "print(\"Welcome to the driving license application form\")\n",
    "name = input(\"Please enter your name: \")\n",
    "age = int(input(\"Please enter your age: \"))\n",
    "citizenship = input(\"Are you a citizen of this country? \")\n",
    "has_license = input(\"Do you have a driver's license? \")\n",
    "vision = input(\"Do you have normal or corrected-to-normal vision? \")\n",
    "alcohol = input(\"Have you ever been convicted of driving under the influence of alcohol or drugs? \")\n",
    "medical = input(\"Do you have any medical condition that would affect your driving ability? \")\n",
    "criminal = input(\"Have you ever been convicted of a criminal offense? \")\n",
    "\n",
    "if age >= 18 and citizenship == 'yes' and has_license == 'no' and vision == 'yes' and alcohol == 'no' and medical == 'no' and criminal == 'no':\n",
    "    print(\"You are eligible to apply for a driving license.\")\n",
    "elif age < 18:\n",
    "    print(\"You must be 18 or older to apply for a driving license.\")\n",
    "else:\n",
    "    print(\"Sorry, you are not eligible to apply for a driving license.\")"
   ]
  },
  {
   "cell_type": "code",
   "execution_count": null,
   "id": "15b707c7",
   "metadata": {},
   "outputs": [],
   "source": []
  }
 ],
 "metadata": {
  "kernelspec": {
   "display_name": "Python 3 (ipykernel)",
   "language": "python",
   "name": "python3"
  },
  "language_info": {
   "codemirror_mode": {
    "name": "ipython",
    "version": 3
   },
   "file_extension": ".py",
   "mimetype": "text/x-python",
   "name": "python",
   "nbconvert_exporter": "python",
   "pygments_lexer": "ipython3",
   "version": "3.9.16"
  }
 },
 "nbformat": 4,
 "nbformat_minor": 5
}
