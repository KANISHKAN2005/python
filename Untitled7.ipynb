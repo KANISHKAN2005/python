{
 "cells": [
  {
   "cell_type": "markdown",
   "id": "b82cd669",
   "metadata": {},
   "source": [
    "# MAPPING"
   ]
  },
  {
   "cell_type": "code",
   "execution_count": 13,
   "id": "5362b9ad",
   "metadata": {},
   "outputs": [],
   "source": [
    "school_name=[(\"n1\",10),(\"n2\",20),(\"n3\",30),(\"n4\",40)]"
   ]
  },
  {
   "cell_type": "code",
   "execution_count": 14,
   "id": "bab557ed",
   "metadata": {},
   "outputs": [
    {
     "name": "stdout",
     "output_type": "stream",
     "text": [
      "('n2', 20)\n",
      "('n3', 30)\n",
      "('n4', 40)\n"
     ]
    }
   ],
   "source": [
    "for name in school_name:\n",
    "    if name[1]>18:\n",
    "        print(name)"
   ]
  },
  {
   "cell_type": "code",
   "execution_count": 16,
   "id": "e9f4a88a",
   "metadata": {},
   "outputs": [],
   "source": [
    "check=lambda data:data[1]>18"
   ]
  },
  {
   "cell_type": "code",
   "execution_count": 17,
   "id": "8daaa96a",
   "metadata": {},
   "outputs": [
    {
     "data": {
      "text/plain": [
       "[False, True, True, True]"
      ]
     },
     "execution_count": 17,
     "metadata": {},
     "output_type": "execute_result"
    }
   ],
   "source": [
    "x=list(map(check,school_name))\n",
    "x"
   ]
  },
  {
   "cell_type": "code",
   "execution_count": 23,
   "id": "14ec2388",
   "metadata": {},
   "outputs": [],
   "source": [
    "def eligibility(data):\n",
    "    if data[1]<18:\n",
    "        print (data)"
   ]
  },
  {
   "cell_type": "code",
   "execution_count": 24,
   "id": "6b719627",
   "metadata": {},
   "outputs": [
    {
     "name": "stdout",
     "output_type": "stream",
     "text": [
      "('n1', 10)\n"
     ]
    }
   ],
   "source": [
    "x=list((map(eligibility,school_name)))"
   ]
  },
  {
   "cell_type": "code",
   "execution_count": null,
   "id": "ca67da17",
   "metadata": {},
   "outputs": [],
   "source": []
  },
  {
   "cell_type": "code",
   "execution_count": null,
   "id": "0fb914d0",
   "metadata": {},
   "outputs": [],
   "source": []
  },
  {
   "cell_type": "code",
   "execution_count": null,
   "id": "8f284dcc",
   "metadata": {},
   "outputs": [],
   "source": []
  },
  {
   "cell_type": "code",
   "execution_count": null,
   "id": "4034966d",
   "metadata": {},
   "outputs": [],
   "source": []
  },
  {
   "cell_type": "code",
   "execution_count": null,
   "id": "dec13fca",
   "metadata": {},
   "outputs": [],
   "source": []
  },
  {
   "cell_type": "code",
   "execution_count": null,
   "id": "1194d8e6",
   "metadata": {},
   "outputs": [],
   "source": []
  },
  {
   "cell_type": "code",
   "execution_count": null,
   "id": "a569df56",
   "metadata": {},
   "outputs": [],
   "source": [
    "\n"
   ]
  },
  {
   "cell_type": "code",
   "execution_count": null,
   "id": "6299b1a4",
   "metadata": {},
   "outputs": [],
   "source": []
  },
  {
   "cell_type": "code",
   "execution_count": null,
   "id": "86a75635",
   "metadata": {},
   "outputs": [],
   "source": []
  }
 ],
 "metadata": {
  "kernelspec": {
   "display_name": "Python 3 (ipykernel)",
   "language": "python",
   "name": "python3"
  },
  "language_info": {
   "codemirror_mode": {
    "name": "ipython",
    "version": 3
   },
   "file_extension": ".py",
   "mimetype": "text/x-python",
   "name": "python",
   "nbconvert_exporter": "python",
   "pygments_lexer": "ipython3",
   "version": "3.9.16"
  }
 },
 "nbformat": 4,
 "nbformat_minor": 5
}
