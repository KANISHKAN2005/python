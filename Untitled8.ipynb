{
 "cells": [
  {
   "cell_type": "code",
   "execution_count": 2,
   "id": "d330312d",
   "metadata": {},
   "outputs": [
    {
     "name": "stdout",
     "output_type": "stream",
     "text": [
      "ford 85 9\n"
     ]
    }
   ],
   "source": [
    "class vechicle:\n",
    "    def __init__(self,name,max_speed,mileage):\n",
    "        self.name = name\n",
    "        self.max_speed = max_speed\n",
    "        self.mileage = mileage\n",
    "        \n",
    "    def disp(self):\n",
    "        print(self.name,self.max_speed,self.mileage)\n",
    "        \n",
    "ob = vechicle(\"ford\",85,9)\n",
    "ob.disp()"
   ]
  },
  {
   "cell_type": "code",
   "execution_count": null,
   "id": "a8af0c52",
   "metadata": {},
   "outputs": [],
   "source": [
    "class child automobile:\n",
    "    def __init__(self,name,max_speed,mileage):\n",
    "        self.name = name\n",
    "        self.max_speed = max_speed\n",
    "        self.mileage = mileage\n",
    "        \n",
    "class automobile(vechicle):\n",
    "    def __init__(self,price):\n",
    "        self.price = price\n",
    "    def disp(self):\n",
    "        super().__init__(name,maself.name = name\n",
    "        self.max_speed = max_speed\n",
    "        self.mileage = mileagex_speed,mileage)\n",
    "        self.price = price\n",
    "ob1 = vechicle(\"ford\",400,100,10)\n",
    "ob2 = automobile(1000000000000)\n",
    "\n",
    "print(\"vechicle name:\"ob1.name,\"speed:\",ob1.maxspeed,\"\")"
   ]
  }
 ],
 "metadata": {
  "kernelspec": {
   "display_name": "Python 3 (ipykernel)",
   "language": "python",
   "name": "python3"
  },
  "language_info": {
   "codemirror_mode": {
    "name": "ipython",
    "version": 3
   },
   "file_extension": ".py",
   "mimetype": "text/x-python",
   "name": "python",
   "nbconvert_exporter": "python",
   "pygments_lexer": "ipython3",
   "version": "3.9.13"
  }
 },
 "nbformat": 4,
 "nbformat_minor": 5
}
