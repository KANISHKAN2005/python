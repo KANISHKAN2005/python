{
 "cells": [
  {
   "cell_type": "markdown",
   "id": "d224824a",
   "metadata": {},
   "source": [
    "\n",
    "\n",
    "\n",
    "\n",
    "\n",
    "\n",
    "# creating a dataset"
   ]
  },
  {
   "cell_type": "code",
   "execution_count": 1,
   "id": "c694cfad",
   "metadata": {},
   "outputs": [],
   "source": [
    "data =[7,18,10,49,99,2,45,31,52]"
   ]
  },
  {
   "cell_type": "code",
   "execution_count": 2,
   "id": "23ea15fc",
   "metadata": {},
   "outputs": [],
   "source": [
    "data.sort()"
   ]
  },
  {
   "cell_type": "code",
   "execution_count": 3,
   "id": "9a5ab3d9",
   "metadata": {},
   "outputs": [
    {
     "name": "stdout",
     "output_type": "stream",
     "text": [
      "[2, 7, 10, 18, 31, 45, 49, 52, 99]\n"
     ]
    }
   ],
   "source": [
    "print(data)"
   ]
  },
  {
   "cell_type": "code",
   "execution_count": 4,
   "id": "95774ae2",
   "metadata": {},
   "outputs": [
    {
     "name": "stdout",
     "output_type": "stream",
     "text": [
      "enter the scarch element18\n"
     ]
    }
   ],
   "source": [
    "elem = int(input(\"enter the scarch element\"))"
   ]
  },
  {
   "cell_type": "code",
   "execution_count": null,
   "id": "3ff520b5",
   "metadata": {},
   "outputs": [],
   "source": [
    "def binary_search(data,elem):\n",
    "    \n",
    "    low = 0\n",
    "    high = len(data) -1\n",
    "    \n",
    "    while low <= high:\n",
    "        \n",
    "        middle = (low + high)//2\n",
    "        \n",
    "        if data[middle] == elem:\n",
    "            print(f\"the sarching element{elem} present at index value {middle} in dataset\")\n",
    "            break\n",
    "            \n",
    "        elif data[middle] >elem:\n",
    "            high = middle - 1\n",
    "            \n",
    "        else:\n",
    "            low = middle + 1\n",
    "    if data[middle]  !=elem:\n",
    "        print(f\"the searching element {elem})"
   ]
  }
 ],
 "metadata": {
  "kernelspec": {
   "display_name": "Python 3 (ipykernel)",
   "language": "python",
   "name": "python3"
  },
  "language_info": {
   "codemirror_mode": {
    "name": "ipython",
    "version": 3
   },
   "file_extension": ".py",
   "mimetype": "text/x-python",
   "name": "python",
   "nbconvert_exporter": "python",
   "pygments_lexer": "ipython3",
   "version": "3.9.13"
  }
 },
 "nbformat": 4,
 "nbformat_minor": 5
}
