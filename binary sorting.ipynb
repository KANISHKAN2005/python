{
 "cells": [
  {
   "cell_type": "code",
   "execution_count": 1,
   "id": "f27b50cf",
   "metadata": {},
   "outputs": [],
   "source": [
    "data = [16,21,15,7,8,24,9,1,30,10,25,13,26,11,12,5,20,28,18,3]"
   ]
  },
  {
   "cell_type": "code",
   "execution_count": 2,
   "id": "ea41fb52",
   "metadata": {},
   "outputs": [],
   "source": [
    "data.sort()"
   ]
  },
  {
   "cell_type": "code",
   "execution_count": 3,
   "id": "3e91b10a",
   "metadata": {},
   "outputs": [
    {
     "name": "stdout",
     "output_type": "stream",
     "text": [
      "enter the search element26\n"
     ]
    }
   ],
   "source": [
    "elem = int(input(\"enter the search element\"))"
   ]
  },
  {
   "cell_type": "code",
   "execution_count": null,
   "id": "6b8aef42",
   "metadata": {},
   "outputs": [],
   "source": []
  },
  {
   "cell_type": "code",
   "execution_count": null,
   "id": "906e61d8",
   "metadata": {},
   "outputs": [],
   "source": []
  },
  {
   "cell_type": "code",
   "execution_count": null,
   "id": "9cdd7e08",
   "metadata": {},
   "outputs": [],
   "source": []
  },
  {
   "cell_type": "code",
   "execution_count": 5,
   "id": "3b39b704",
   "metadata": {},
   "outputs": [],
   "source": [
    "def binary_search(data,elem):\n",
    "    \n",
    "    low = 0\n",
    "    high = len(data) -1\n",
    "    \n",
    "    while low <= high:\n",
    "        \n",
    "        middle = (low + high)//2\n",
    "        \n",
    "        if data[middle] == elem:\n",
    "            print(f\"the sarching element{elem} present at index value {middle} in dataset\")\n",
    "            break\n",
    "            \n",
    "        elif data[middle] >elem:\n",
    "            high = middle - 1\n",
    "            \n",
    "        else:\n",
    "            low = middle + 1\n",
    "    if data[middle]  !=elem:\n",
    "        print(f\"the searching element {elem}\")\n",
    "        return-1"
   ]
  },
  {
   "cell_type": "code",
   "execution_count": 6,
   "id": "b10aa32f",
   "metadata": {},
   "outputs": [
    {
     "name": "stdout",
     "output_type": "stream",
     "text": [
      "the sarching element26 present at index value 17 in dataset\n"
     ]
    }
   ],
   "source": [
    "binary_search (data,elem)"
   ]
  },
  {
   "cell_type": "code",
   "execution_count": null,
   "id": "1858aca7",
   "metadata": {},
   "outputs": [],
   "source": []
  },
  {
   "cell_type": "code",
   "execution_count": null,
   "id": "00960b05",
   "metadata": {},
   "outputs": [],
   "source": [
    "for data in a;\n",
    "if 26 <= int(a):\n",
    "    print()"
   ]
  },
  {
   "cell_type": "code",
   "execution_count": null,
   "id": "59c96146",
   "metadata": {},
   "outputs": [],
   "source": [
    "def bubbleSort(data):\n",
    "    \n",
    "    for i in range(len(data)):\n",
    "        \n",
    "        for j in range(0, len(data) - i - 1):\n",
    "            \n",
    "            if data[j] > data[j + 1]:\n",
    "             \n",
    "                temp = data[j]\n",
    "                data  [j] = data [j + 1]\n",
    "                data [j + 1] = temp\n",
    "        \n",
    "data = [-2, 45, 0, 11, 9, 15, -11, 21, 12]\n",
    "\n",
    "print('Before Sorting the Array in Ascending Order:')\n",
    "print(data)\n",
    "\n",
    "bubbleSort(data)\n",
    "\n",
    "print('After Before Sorting the Array in Ascending Order:')\n",
    "print(data)"
   ]
  },
  {
   "cell_type": "code",
   "execution_count": null,
   "id": "9db82890",
   "metadata": {},
   "outputs": [],
   "source": [
    "def bubbleSort(data):\n",
    "    \n",
    "    for i in range(len(data)):\n",
    "        \n",
    "        for j in range(0, len(data) - i - 1):\n",
    "            \n",
    "            if data[j] < data[j + 1]:\n",
    "             \n",
    "                temp = data[j]\n",
    "                data  [j] = data [j + 1]\n",
    "                data [j + 1] = temp\n",
    "        \n",
    "data = [-2, 45, 0, 11, 9, 15, -11, 21, 12]\n",
    "\n",
    "print('Before Sorting the Array in Descending Order:')\n",
    "print(data)\n",
    "\n",
    "bubbleSort(data)\n",
    "\n",
    "print('After Before Sorting the Array in Descending Order:')\n",
    "print(data) "
   ]
  },
  {
   "cell_type": "code",
   "execution_count": null,
   "id": "1edaf6c7",
   "metadata": {},
   "outputs": [],
   "source": [
    "def bubbleSort(arr):\n",
    "    n = len (arr)\n",
    "    \n",
    "    swapped = False\n",
    "    \n",
    "    for i in range(n-1):\n",
    "        \n",
    "        for j in range(0, n-i-1):\n",
    "             if arr[j] > arr[j + 1]:\n",
    "                    swapped = True \n",
    "                    arr[j], arr[j + 1] = arr[j + 1], arr[j]\n",
    "                    \n",
    "    if not swapped:\n",
    "        \n",
    "        return\n",
    "    \n",
    "arr = [64, 34, 25, 12, 22, 11, 10, 90,11,125,242344,56]\n",
    "\n",
    "print(\"Non-Sorted array is:\")\n",
    "for i in range(len(arr)):\n",
    "    print(\"% d\" % arr[i], end=\" \")\n",
    "    \n",
    "bubbleSort(arr)\n",
    "print(\"\\nSorted array is:\")\n",
    "for i in range(len(arr)):\n",
    "    print(\"% d\" % arr[i], end=\" \")"
   ]
  }
 ],
 "metadata": {
  "kernelspec": {
   "display_name": "Python 3 (ipykernel)",
   "language": "python",
   "name": "python3"
  },
  "language_info": {
   "codemirror_mode": {
    "name": "ipython",
    "version": 3
   },
   "file_extension": ".py",
   "mimetype": "text/x-python",
   "name": "python",
   "nbconvert_exporter": "python",
   "pygments_lexer": "ipython3",
   "version": "3.9.7"
  }
 },
 "nbformat": 4,
 "nbformat_minor": 5
}
