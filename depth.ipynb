{
 "cells": [
  {
   "cell_type": "code",
   "execution_count": 1,
   "id": "5bc5f85d",
   "metadata": {},
   "outputs": [],
   "source": [
    "from queue import LifoQueue"
   ]
  },
  {
   "cell_type": "code",
   "execution_count": 3,
   "id": "a082f10d",
   "metadata": {},
   "outputs": [],
   "source": [
    "stack=LifoQueue(maxsize=10)"
   ]
  },
  {
   "cell_type": "code",
   "execution_count": 4,
   "id": "c7aebe58",
   "metadata": {},
   "outputs": [
    {
     "data": {
      "text/plain": [
       "<queue.LifoQueue at 0x21e9bc309d0>"
      ]
     },
     "execution_count": 4,
     "metadata": {},
     "output_type": "execute_result"
    }
   ],
   "source": [
    "stack"
   ]
  },
  {
   "cell_type": "code",
   "execution_count": 5,
   "id": "428d3587",
   "metadata": {},
   "outputs": [],
   "source": [
    "stack.put(\"maths\")\n",
    "stack.put(\"biology\")\n",
    "stack.put(\"physics\")\n",
    "stack.put(\"chemistery\")\n",
    "stack.put(\"forensic\")"
   ]
  },
  {
   "cell_type": "code",
   "execution_count": 6,
   "id": "9e6e14d0",
   "metadata": {},
   "outputs": [
    {
     "data": {
      "text/plain": [
       "False"
      ]
     },
     "execution_count": 6,
     "metadata": {},
     "output_type": "execute_result"
    }
   ],
   "source": [
    "stack.full()"
   ]
  },
  {
   "cell_type": "code",
   "execution_count": 7,
   "id": "b9cc4031",
   "metadata": {},
   "outputs": [
    {
     "data": {
      "text/plain": [
       "5"
      ]
     },
     "execution_count": 7,
     "metadata": {},
     "output_type": "execute_result"
    }
   ],
   "source": [
    "stack.qsize()"
   ]
  },
  {
   "cell_type": "code",
   "execution_count": 10,
   "id": "f292778d",
   "metadata": {},
   "outputs": [
    {
     "name": "stdout",
     "output_type": "stream",
     "text": [
      "forensic\n"
     ]
    }
   ],
   "source": [
    "print(stack.get())"
   ]
  },
  {
   "cell_type": "code",
   "execution_count": 11,
   "id": "677a2bd6",
   "metadata": {},
   "outputs": [
    {
     "data": {
      "text/plain": [
       "False"
      ]
     },
     "execution_count": 11,
     "metadata": {},
     "output_type": "execute_result"
    }
   ],
   "source": [
    "stack.empty()"
   ]
  },
  {
   "cell_type": "code",
   "execution_count": 12,
   "id": "0f533b8a",
   "metadata": {},
   "outputs": [],
   "source": [
    "from collections import deque\n",
    "def bfs(graph,start,goal,visited):\n",
    "    stack = [start]\n",
    "    while [start]:\n",
    "        node=stack.pop()\n",
    "        if node not in visited:\n",
    "            visited.append(node)\n",
    "            if node==goal:\n",
    "                print(visited)\n",
    "            for neighbors in graph[node]:\n",
    "                dfs(graph,neighbors,goal,visited)\n",
    "            "
   ]
  },
  {
   "cell_type": "code",
   "execution_count": null,
   "id": "bbf258c7",
   "metadata": {},
   "outputs": [],
   "source": []
  }
 ],
 "metadata": {
  "kernelspec": {
   "display_name": "Python 3 (ipykernel)",
   "language": "python",
   "name": "python3"
  },
  "language_info": {
   "codemirror_mode": {
    "name": "ipython",
    "version": 3
   },
   "file_extension": ".py",
   "mimetype": "text/x-python",
   "name": "python",
   "nbconvert_exporter": "python",
   "pygments_lexer": "ipython3",
   "version": "3.9.13"
  }
 },
 "nbformat": 4,
 "nbformat_minor": 5
}
