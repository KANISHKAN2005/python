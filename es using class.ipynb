{
 "cells": [
  {
   "cell_type": "markdown",
   "id": "9d27f0b5",
   "metadata": {},
   "source": [
    "# expert system"
   ]
  },
  {
   "cell_type": "code",
   "execution_count": 1,
   "id": "140cd900",
   "metadata": {},
   "outputs": [],
   "source": [
    "from platform import python_version"
   ]
  },
  {
   "cell_type": "code",
   "execution_count": 2,
   "id": "db251a7e",
   "metadata": {},
   "outputs": [
    {
     "data": {
      "text/plain": [
       "'3.9.13'"
      ]
     },
     "execution_count": 2,
     "metadata": {},
     "output_type": "execute_result"
    }
   ],
   "source": [
    "python_version()"
   ]
  },
  {
   "cell_type": "code",
   "execution_count": 3,
   "id": "dd1443a9",
   "metadata": {},
   "outputs": [
    {
     "name": "stdout",
     "output_type": "stream",
     "text": [
      "Requirement already satisfied: experta in c:\\users\\aedpu\\anaconda3\\lib\\site-packages (1.9.4)\n",
      "Requirement already satisfied: frozendict==1.2 in c:\\users\\aedpu\\anaconda3\\lib\\site-packages (from experta) (1.2)\n",
      "Requirement already satisfied: schema==0.6.7 in c:\\users\\aedpu\\anaconda3\\lib\\site-packages (from experta) (0.6.7)\n",
      "Note: you may need to restart the kernel to use updated packages.\n"
     ]
    }
   ],
   "source": [
    "pip install experta"
   ]
  },
  {
   "cell_type": "code",
   "execution_count": 5,
   "id": "62105908",
   "metadata": {},
   "outputs": [],
   "source": [
    "from experta import *\n",
    "\n",
    "class Greetings(KnowledgeEngine):\n",
    "    @DefFacts()\n",
    "    def _initial_action(self):\n",
    "        yield Fact(action=\"greet\")\n",
    "        \n",
    "    @Rule(Fact(action='greet'),\n",
    "         NOT(Fact(name=W())))\n",
    "    def ask_name(self):\n",
    "        self.declare(fact(name=input(\"what's your name?\")))\n",
    "        \n",
    "    @Rule(Fact(action='greet'),\n",
    "         NOT(Fact(location=W())))\n",
    "    def ask_location(self):\n",
    "        self.declare(Fact(location=input(\"where are you?\")))\n",
    "        \n",
    "    @Rule(Fact(action='greet'),\n",
    "         Fact(name=MATCH.name),\n",
    "         Fact(location=MATCH.location))\n",
    "    def greet(self,name,location):\n",
    "        print(\"hi %s ! how is the weather in %s?\" %(name,location))"
   ]
  },
  {
   "cell_type": "code",
   "execution_count": null,
   "id": "54a19bf5",
   "metadata": {},
   "outputs": [],
   "source": [
    "engine = Greetings()\n",
    "engine.reset()\n",
    "engine.run()"
   ]
  },
  {
   "cell_type": "code",
   "execution_count": null,
   "id": "deea66b2",
   "metadata": {},
   "outputs": [],
   "source": []
  },
  {
   "cell_type": "code",
   "execution_count": 10,
   "id": "4c78fac6",
   "metadata": {},
   "outputs": [
    {
     "ename": "TypeError",
     "evalue": "'module' object is not callable",
     "output_type": "error",
     "traceback": [
      "\u001b[1;31m---------------------------------------------------------------------------\u001b[0m",
      "\u001b[1;31mTypeError\u001b[0m                                 Traceback (most recent call last)",
      "\u001b[1;32m~\\AppData\\Local\\Temp\\ipykernel_5712\\2433166883.py\u001b[0m in \u001b[0;36m<module>\u001b[1;34m\u001b[0m\n\u001b[1;32m----> 1\u001b[1;33m \u001b[1;32mclass\u001b[0m \u001b[0mgreeting\u001b[0m\u001b[1;33m(\u001b[0m\u001b[0mKnowledgeEngine\u001b[0m\u001b[1;33m)\u001b[0m\u001b[1;33m:\u001b[0m\u001b[1;33m\u001b[0m\u001b[1;33m\u001b[0m\u001b[0m\n\u001b[0m\u001b[0;32m      2\u001b[0m     \u001b[1;33m@\u001b[0m\u001b[0mDefFacts\u001b[0m\u001b[1;33m(\u001b[0m\u001b[1;33m)\u001b[0m\u001b[1;33m\u001b[0m\u001b[1;33m\u001b[0m\u001b[0m\n\u001b[0;32m      3\u001b[0m     \u001b[1;32mdef\u001b[0m \u001b[0m_initial_action\u001b[0m\u001b[1;33m(\u001b[0m\u001b[0mself\u001b[0m\u001b[1;33m)\u001b[0m\u001b[1;33m:\u001b[0m\u001b[1;33m\u001b[0m\u001b[1;33m\u001b[0m\u001b[0m\n\u001b[0;32m      4\u001b[0m         \u001b[1;32myield\u001b[0m \u001b[0mFact\u001b[0m\u001b[1;33m(\u001b[0m\u001b[0maction\u001b[0m\u001b[1;33m=\u001b[0m\u001b[1;34m\"greet\"\u001b[0m\u001b[1;33m)\u001b[0m\u001b[1;33m\u001b[0m\u001b[1;33m\u001b[0m\u001b[0m\n\u001b[0;32m      5\u001b[0m \u001b[1;33m\u001b[0m\u001b[0m\n",
      "\u001b[1;32m~\\AppData\\Local\\Temp\\ipykernel_5712\\2433166883.py\u001b[0m in \u001b[0;36mgreeting\u001b[1;34m()\u001b[0m\n\u001b[0;32m      4\u001b[0m         \u001b[1;32myield\u001b[0m \u001b[0mFact\u001b[0m\u001b[1;33m(\u001b[0m\u001b[0maction\u001b[0m\u001b[1;33m=\u001b[0m\u001b[1;34m\"greet\"\u001b[0m\u001b[1;33m)\u001b[0m\u001b[1;33m\u001b[0m\u001b[1;33m\u001b[0m\u001b[0m\n\u001b[0;32m      5\u001b[0m \u001b[1;33m\u001b[0m\u001b[0m\n\u001b[1;32m----> 6\u001b[1;33m     @Rule(fact(action='greet'),\n\u001b[0m\u001b[0;32m      7\u001b[0m          NOT(Fact(name=W())))\n\u001b[0;32m      8\u001b[0m     \u001b[1;32mdef\u001b[0m \u001b[0mask_name\u001b[0m\u001b[1;33m(\u001b[0m\u001b[0mself\u001b[0m\u001b[1;33m)\u001b[0m\u001b[1;33m:\u001b[0m\u001b[1;33m\u001b[0m\u001b[1;33m\u001b[0m\u001b[0m\n",
      "\u001b[1;31mTypeError\u001b[0m: 'module' object is not callable"
     ]
    }
   ],
   "source": [
    "class greeting(KnowledgeEngine):\n",
    "    @DefFacts()\n",
    "    def _initial_action(self):\n",
    "        yield Fact(action=\"greet\")\n",
    "        \n",
    "    @Rule(fact(action='greet'),\n",
    "         NOT(Fact(name=W())))\n",
    "    def ask_name(self):\n",
    "        self.declare(fact(name=input(\"what's your name?\")))\n",
    "        \n",
    "    @Rule(Fact(action='greet'),\n",
    "         NOT(Fact(location=W())))\n",
    "    def as_location(self):\n",
    "        self.declare(Fact(location=input(\"where are you?\")))\n",
    "        \n",
    "    @Rule(Fact(action='greet'),\n",
    "         Fact(name=MATCH.name),\n",
    "         Fact(location=MATCH.location))\n",
    "    def greet(self, name, location):\n",
    "        print(\"hi %s ! how is the weather in %s?\" %(name, location))\n"
   ]
  },
  {
   "cell_type": "code",
   "execution_count": 14,
   "id": "8b563087",
   "metadata": {},
   "outputs": [
    {
     "ename": "NameError",
     "evalue": "name 'Greetings' is not defined",
     "output_type": "error",
     "traceback": [
      "\u001b[1;31m---------------------------------------------------------------------------\u001b[0m",
      "\u001b[1;31mNameError\u001b[0m                                 Traceback (most recent call last)",
      "\u001b[1;32m~\\AppData\\Local\\Temp\\ipykernel_5712\\1866617265.py\u001b[0m in \u001b[0;36m<module>\u001b[1;34m\u001b[0m\n\u001b[1;32m----> 1\u001b[1;33m \u001b[0mengine\u001b[0m \u001b[1;33m=\u001b[0m \u001b[0mGreetings\u001b[0m\u001b[1;33m(\u001b[0m\u001b[1;33m)\u001b[0m\u001b[1;33m\u001b[0m\u001b[1;33m\u001b[0m\u001b[0m\n\u001b[0m\u001b[0;32m      2\u001b[0m \u001b[0mengine\u001b[0m\u001b[1;33m.\u001b[0m\u001b[0mreset\u001b[0m\u001b[1;33m(\u001b[0m\u001b[1;33m)\u001b[0m\u001b[1;33m\u001b[0m\u001b[1;33m\u001b[0m\u001b[0m\n\u001b[0;32m      3\u001b[0m \u001b[0mengine\u001b[0m\u001b[1;33m.\u001b[0m\u001b[0mrun\u001b[0m\u001b[1;33m(\u001b[0m\u001b[1;33m)\u001b[0m\u001b[1;33m\u001b[0m\u001b[1;33m\u001b[0m\u001b[0m\n",
      "\u001b[1;31mNameError\u001b[0m: name 'Greetings' is not defined"
     ]
    }
   ],
   "source": [
    "engine = Greetings()\n",
    "engine.reset()\n",
    "engine.run()"
   ]
  },
  {
   "cell_type": "code",
   "execution_count": 1,
   "id": "66b70dad",
   "metadata": {},
   "outputs": [
    {
     "name": "stdout",
     "output_type": "stream",
     "text": [
      "Requirement already satisfied: experta in c:\\users\\aedpu\\anaconda3\\lib\\site-packages (1.9.4)\n",
      "Requirement already satisfied: schema==0.6.7 in c:\\users\\aedpu\\anaconda3\\lib\\site-packages (from experta) (0.6.7)\n",
      "Requirement already satisfied: frozendict==1.2 in c:\\users\\aedpu\\anaconda3\\lib\\site-packages (from experta) (1.2)\n",
      "Note: you may need to restart the kernel to use updated packages.\n"
     ]
    }
   ],
   "source": [
    "pip install experta"
   ]
  },
  {
   "cell_type": "code",
   "execution_count": 2,
   "id": "1a850459",
   "metadata": {},
   "outputs": [],
   "source": [
    "from experta import*"
   ]
  },
  {
   "cell_type": "code",
   "execution_count": 3,
   "id": "ff56f598",
   "metadata": {},
   "outputs": [],
   "source": [
    "class meds(KnowledgeEngine):\n",
    "    @DefFacts()\n",
    "    def _initial_action(self):\n",
    "        yield Fact(action = 'load')\n",
    "        \n",
    "    @Rule(Fact(action = 'load'), NOT(Fact(fulltime = W())))\n",
    "    def start_quest(self):\n",
    "        print(\"Welcome to the Medical Expert system. \")\n",
    "        self.declare(Fact(intro = input(\"please enter your name:\")))\n",
    "        self.declare(Fact(fulltime = input(\"do you want to enter the medical expert system\")))\n",
    "        \n",
    "    @Rule(Fact(action = 'load'), (Fact(fulltime = 'no')))\n",
    "    def exiting(self):\n",
    "        print(\"thank you!\")\n",
    "        \n",
    "    @Rule(Fact(action = 'load'),(Fact(fulltime = 'yes')))\n",
    "    def fever_check(self):\n",
    "        self.declare(Fact(Fever = input(\"do you have fever for the last few days ?\")))\n",
    "        \n",
    "    @Rule(Fact(action = 'load'),AND(Fact(fulltime = 'yes'),NOT(Fact(Fever = 'not sure'))))\n",
    "    def cough_check(self):\n",
    "        self.declare(Fact(Cough = input(\"do you have dry cough for the last few days\")))\n",
    "        \n",
    "    @Rule(Fact(action='load'),AND(Fact(fulltime = 'yes'),NOT(Fact(Fever = 'not sure')),NOT(Fact(Cough ='not sure'))))\n",
    "    def tired_check(self):\n",
    "        self.declare(Fact(Tired = input(\"have you been feeling tired\")))\n",
    "        \n",
    "    @Rule(Fact(action='load'),AND(Fact(fulltime= 'yes'),AND(Fact(Fever = 'yes'),Fact(Cough = 'no'),Fact(Tired = 'no'))))\n",
    "    def accept_1(self):\n",
    "        print(\"you have fever please take rest and have paracetamol\")\n",
    "        \n",
    "    @Rule(Fact(action='load'),AND(Fact(fulltime= 'yes'),AND(Fact(Fever = 'no'),Fact(Cough = 'yes'),Fact(Tired = 'no'))))\n",
    "    def accept_2(self):\n",
    "        print(\"you just have dry cough. please gargle ,steam and have lots oh hot water. \")\n",
    "        \n",
    "    @Rule(Fact(action='load'),AND(Fact(fulltime= 'yes'),Fact(Fever = 'yes'),Fact(Cough = 'yes'),Fact(Tired = 'yes')))\n",
    "    def accept_3(self):\n",
    "        print(\"you are showing symtoms of COVID-19.please get yourself tested and stay quarentined.\")\n",
    "        \n",
    "    @Rule(Fact(action='load'),AND(Fact(fulltime= 'yes'),Fact(Fever = 'no'),Fact(Cough = 'yes')))\n",
    "    def accept_4(self):\n",
    "        print(\"please visit your docter as you may throat infection.\")\n",
    "        \n",
    "    @Rule(Fact(acton='load'),AND(Fact(fulltime= 'yes'),Fact(Fever = 'yes'),Fact(Cough = 'no'),Fact(Tired = 'yes')))\n",
    "    def accept_5(self):\n",
    "        print(\"you may be having a viral infection . take ample rest.if presists please visit a doctor\")\n",
    "        \n",
    "    @Rule(Fact(action = 'load'), AND(Fact(fulltime = 'yes'),OR(Fact(fulltime = 'yes'),Fact(Fever = 'no')),\n",
    "                                     OR(Fact(Cough = 'yes'),Fact(Cough = 'no')),\n",
    "                                     OR(Fact(Tired = 'yes'),Fact(Tired = 'no'))))\n",
    "    \n",
    "    def adv_expt(self):\n",
    "        print(\"you have completed the simple meical expert system.\")\n",
    "        self.declare(Fact(dep_dive = input(\"Do you want to dive deeper into the expert system?\")))\n",
    "        \n",
    "    @Rule(Fact(action = 'load'),AND(Fact(fulltime = 'yes'),Fact(dep_dive = 'no')))\n",
    "    def div_reject(self):\n",
    "        print(\"thank you for using our expert system.\")\n",
    "    \n",
    "    @Rule(Fact(action = 'load'),AND(Fact(fulltime = 'yes'),Fact(dep_dive = 'yes')))\n",
    "    def breath (self):\n",
    "        self.declare(Fact(breathing = input(\"have you been experincing shortness of breath?\")))\n",
    "        \n",
    "    @Rule(Fact(action = 'load'), AND(Fact(fulltime = 'yes'), Fact(dep_dive = 'yes'),OR(Fact(breathing = 'yes'),Fact(breathing = 'no'))))\n",
    "    \n",
    "    def chest_pain(self):\n",
    "        self.declare(Fact(chest = input(\"have you been experiencig acute pain or pressure? \")))\n",
    "        \n",
    "    @Rule(Fact(action = 'load'), AND(Fact(fulltime = 'yes'),Fact(dep_dive = 'yes'),\n",
    "                                     OR(Fact(breating = 'yes'), Fact(breating = 'no')),\n",
    "                                     OR(Fact(chest = 'yes'),Fact(chest = 'no'))))\n",
    "    \n",
    "    def speech_loss(self):\n",
    "        self.declare(Fact(loss = input(\"have you been experiencing any loss of speech or movement? \")))\n",
    "        \n",
    "    @Rule(Fact(action= 'load'), AND(Fact(fulltime='yes'),Fact(dep_dive ='yes'), Fact(breathing = 'yes'),\n",
    "                                  Fact(loss = 'no'), Fact(chest = 'no')))\n",
    "    def accept_6(self):\n",
    "        print(\"you seem to be having shortness of breath. even if you are not COVID positive,this is serious.\")\n",
    "        print(\"go to the doctor immediately.\")\n",
    "        \n",
    "    @Rule(Fact(action='load'), AND(Fact(fulltime='yes'),Fact(dep_dive = 'yes'),Fact(breathing = 'no'),\n",
    "                                   Fact(loss = 'yes'),Fact(chest = 'no')))\n",
    "    \n",
    "    def accept_7(self):\n",
    "        print(\"you seem to be having either loss of speechor movement.even if you are not covid positive this is serious.\")\n",
    "        print(\"go to the doctor immediately.\")\n",
    "        \n",
    "    @Rule(Fact(action='load'), AND(Fact(fulltime='yes'),Fact(fulltime='yes'),Fact(dep_dive = 'yes'),Fact(breathing = 'no'),\n",
    "                                   Fact(loss = 'no'),Fact(chest = 'yes')))\n",
    "    \n",
    "    def accept_8(self):\n",
    "        print(\"you seem to be having chest pan.even if you are not COVID positive, this is serious.\")\n",
    "        print(\"go to the doctor immediately.\")\n",
    "        \n",
    "    def accept_9(self):\n",
    "        print(\"you seem to be be having a chest pain and shortness of breath . even if you are not COVID positive,this is serious.\")\n",
    "        print(\"go to the doctor immediately.\")\n",
    "        \n",
    "    @Rule(Fact(action='load'), AND(Fact(fulltime='yes'),Fact(dep_dive = 'yes'), Fact(breathing = 'no'),\n",
    "                                   Fact(loss = 'yes'),Fact(chest = 'yes')))\n",
    "    \n",
    "    def accept_10(self):\n",
    "        print(\"you seem to be having chest pain and loss of speech or motion.even if you are not COVID positive,this is serious\")\n",
    "        print(\"go to the doctor immediately.\")\n",
    "              \n",
    "    @Rule(Fact(action='load'), AND(Fact(fulltime='yes'),Fact(dep_dive = 'yes'),Fact(breathing = 'yes'),\n",
    "                                   Fact(loss = 'yes'),Fact(chest = 'no')))\n",
    "              \n",
    "    def accept_11(self):\n",
    "              print(\"you seem to be having shortness of breath and loss of speech or movement.even if your arenot COVID positive,this is serious.\")\n",
    "              print(\"go to the doctor immediately.\")\n",
    "            \n",
    "    @Rule(Fact(action='load'),AND(Fact(fulltime='yes'),Fact(dep_dive = 'yes'), Fact(breathing = 'yes'),\n",
    "                                Fact(loss = 'yes'),Fact(chest = 'yes')))\n",
    "                    \n",
    "    def accept_12(self):\n",
    "                    print(\"you seem to be having chest pain, shortness of breathinganhd loss or movementeven if you are not COVID positive, this is serious.\")\n",
    "                    print(\"go to the doctor immedaiately.\")\n",
    "              \n",
    "    "
   ]
  },
  {
   "cell_type": "code",
   "execution_count": 4,
   "id": "4c9bf7df",
   "metadata": {},
   "outputs": [
    {
     "name": "stdout",
     "output_type": "stream",
     "text": [
      "Welcome to the Medical Expert system. \n",
      "please enter your name:k\n",
      "do you want to enter the medical expert systemyes\n",
      "have you been feeling tiredyes\n",
      "do you have fever for the last few days ?yes\n",
      "do you have dry cough for the last few daysyes\n",
      "you are showing symtoms of COVID-19.please get yourself tested and stay quarentined.\n",
      "you have completed the simple meical expert system.\n",
      "Do you want to dive deeper into the expert system?yes\n",
      "have you been experincing shortness of breath?yes\n",
      "have you been experiencig acute pain or pressure? yes\n"
     ]
    }
   ],
   "source": [
    "Engine = meds()\n",
    "Engine.reset()\n",
    "Engine.run()"
   ]
  },
  {
   "cell_type": "code",
   "execution_count": null,
   "id": "e5256cf5",
   "metadata": {},
   "outputs": [],
   "source": []
  },
  {
   "cell_type": "code",
   "execution_count": null,
   "id": "82c70823",
   "metadata": {},
   "outputs": [],
   "source": []
  }
 ],
 "metadata": {
  "kernelspec": {
   "display_name": "Python 3 (ipykernel)",
   "language": "python",
   "name": "python3"
  },
  "language_info": {
   "codemirror_mode": {
    "name": "ipython",
    "version": 3
   },
   "file_extension": ".py",
   "mimetype": "text/x-python",
   "name": "python",
   "nbconvert_exporter": "python",
   "pygments_lexer": "ipython3",
   "version": "3.9.13"
  }
 },
 "nbformat": 4,
 "nbformat_minor": 5
}
