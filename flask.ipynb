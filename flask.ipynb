{
 "cells": [
  {
   "cell_type": "code",
   "execution_count": 1,
   "id": "0d49f7f0",
   "metadata": {},
   "outputs": [
    {
     "name": "stdout",
     "output_type": "stream",
     "text": [
      "Requirement already satisfied: Flask in c:\\users\\aedpu\\anaconda3\\lib\\site-packages (1.1.2)\n",
      "Requirement already satisfied: Jinja2>=2.10.1 in c:\\users\\aedpu\\anaconda3\\lib\\site-packages (from Flask) (2.11.3)\n",
      "Requirement already satisfied: itsdangerous>=0.24 in c:\\users\\aedpu\\anaconda3\\lib\\site-packages (from Flask) (2.0.1)\n",
      "Requirement already satisfied: click>=5.1 in c:\\users\\aedpu\\anaconda3\\lib\\site-packages (from Flask) (8.0.4)\n",
      "Requirement already satisfied: Werkzeug>=0.15 in c:\\users\\aedpu\\anaconda3\\lib\\site-packages (from Flask) (2.0.3)\n",
      "Requirement already satisfied: colorama in c:\\users\\aedpu\\anaconda3\\lib\\site-packages (from click>=5.1->Flask) (0.4.5)\n",
      "Requirement already satisfied: MarkupSafe>=0.23 in c:\\users\\aedpu\\anaconda3\\lib\\site-packages (from Jinja2>=2.10.1->Flask) (2.0.1)\n",
      "Note: you may need to restart the kernel to use updated packages.\n"
     ]
    }
   ],
   "source": [
    "pip install Flask"
   ]
  },
  {
   "cell_type": "code",
   "execution_count": 2,
   "id": "974c4674",
   "metadata": {},
   "outputs": [],
   "source": [
    "# Importing required library\n",
    "from flask import Flask\n",
    "# Defining flask name\n",
    "hwapp = Flask(__name__)\n",
    "# Creating main page\n",
    "@hwapp.route('/')\n",
    "def index():\n",
    "    return 'alpha echo dot'"
   ]
  },
  {
   "cell_type": "code",
   "execution_count": null,
   "id": "db6cdfee",
   "metadata": {},
   "outputs": [
    {
     "name": "stdout",
     "output_type": "stream",
     "text": [
      " * Serving Flask app \"__main__\" (lazy loading)\n",
      " * Environment: production\n",
      "\u001b[31m   WARNING: This is a development server. Do not use it in a production deployment.\u001b[0m\n",
      "\u001b[2m   Use a production WSGI server instead.\u001b[0m\n",
      " * Debug mode: off\n"
     ]
    },
    {
     "name": "stderr",
     "output_type": "stream",
     "text": [
      " * Running on http://127.0.0.1:5000/ (Press CTRL+C to quit)\n"
     ]
    }
   ],
   "source": [
    "if __name__ == \"__main__\":\n",
    "    hwapp.run()"
   ]
  },
  {
   "cell_type": "code",
   "execution_count": null,
   "id": "67811492",
   "metadata": {},
   "outputs": [
    {
     "name": "stdout",
     "output_type": "stream",
     "text": [
      " * Serving Flask app \"__main__\" (lazy loading)\n",
      " * Environment: production\n",
      "\u001b[31m   WARNING: This is a development server. Do not use it in a production deployment.\u001b[0m\n",
      "\u001b[2m   Use a production WSGI server instead.\u001b[0m\n",
      " * Debug mode: off\n"
     ]
    },
    {
     "name": "stderr",
     "output_type": "stream",
     "text": [
      " * Running on http://127.0.0.1:5000/ (Press CTRL+C to quit)\n",
      "127.0.0.1 - - [25/Apr/2023 09:38:49] \"GET / HTTP/1.1\" 200 -\n",
      "127.0.0.1 - - [25/Apr/2023 09:38:50] \"GET /static/Thousand_Sunny.JPG HTTP/1.1\" 200 -\n",
      "127.0.0.1 - - [25/Apr/2023 09:38:50] \"GET /static/css/main.css HTTP/1.1\" 200 -\n",
      "127.0.0.1 - - [25/Apr/2023 09:38:50] \"GET /favicon.ico HTTP/1.1\" 404 -\n",
      "127.0.0.1 - - [25/Apr/2023 09:39:06] \"POST /greet HTTP/1.1\" 200 -\n",
      "127.0.0.1 - - [25/Apr/2023 09:39:09] \"POST /greet HTTP/1.1\" 200 -\n",
      "127.0.0.1 - - [25/Apr/2023 09:39:14] \"POST /contact HTTP/1.1\" 200 -\n",
      "127.0.0.1 - - [25/Apr/2023 09:39:14] \"GET /static/css/main%20copy.css HTTP/1.1\" 200 -\n",
      "127.0.0.1 - - [25/Apr/2023 10:48:30] \"GET / HTTP/1.1\" 200 -\n",
      "127.0.0.1 - - [25/Apr/2023 10:49:25] \"GET / HTTP/1.1\" 200 -\n",
      "127.0.0.1 - - [25/Apr/2023 10:50:06] \"GET / HTTP/1.1\" 200 -\n",
      "127.0.0.1 - - [25/Apr/2023 10:50:28] \"GET / HTTP/1.1\" 200 -\n",
      "127.0.0.1 - - [25/Apr/2023 10:50:30] \"POST /greet HTTP/1.1\" 200 -\n",
      "127.0.0.1 - - [25/Apr/2023 10:50:30] \"POST /contact HTTP/1.1\" 200 -\n",
      "127.0.0.1 - - [25/Apr/2023 10:51:56] \"GET / HTTP/1.1\" 200 -\n",
      "127.0.0.1 - - [25/Apr/2023 10:58:29] \"GET / HTTP/1.1\" 200 -\n",
      "127.0.0.1 - - [25/Apr/2023 10:58:49] \"GET / HTTP/1.1\" 200 -\n"
     ]
    }
   ],
   "source": [
    "\n",
    "from flask import Flask, render_template, request, flash\n",
    "\n",
    "app = Flask(__name__)\n",
    "\n",
    "app.secret_key = \"key_set123\"\n",
    "\n",
    "@app.route(\"/\")\n",
    "\n",
    "def index():\n",
    "\n",
    "    flash(\"what's your name?\")\n",
    "\n",
    "    return render_template(\"index.html\")\n",
    "\n",
    "\n",
    "\n",
    "@app.route(\"/greet\", methods = ['POST', 'GET'])\n",
    "\n",
    "def greeter():\n",
    "\n",
    "    flash(\"Hi\" + str(request.form[\"name_input\"])+ \"great to see you!\") \n",
    "    return render_template(\"index.html\")\n",
    "\n",
    "@app.route(\"/contact\", methods=['POST', 'GET'])\n",
    "\n",
    "def contact():\n",
    "    flash(\"Mobile: +91 xxxxxxxxxx\")\n",
    "\n",
    "    flash(\"Email: xyz@abc.com\")\n",
    "\n",
    "    return render_template(\"index copy.html\")\n",
    "\n",
    "if  __name__ =='__main__' :\n",
    "\n",
    "    app.run()\n"
   ]
  },
  {
   "cell_type": "code",
   "execution_count": null,
   "id": "a52dfaf1",
   "metadata": {},
   "outputs": [],
   "source": []
  },
  {
   "cell_type": "code",
   "execution_count": null,
   "id": "c7e67886",
   "metadata": {},
   "outputs": [],
   "source": []
  }
 ],
 "metadata": {
  "kernelspec": {
   "display_name": "Python 3 (ipykernel)",
   "language": "python",
   "name": "python3"
  },
  "language_info": {
   "codemirror_mode": {
    "name": "ipython",
    "version": 3
   },
   "file_extension": ".py",
   "mimetype": "text/x-python",
   "name": "python",
   "nbconvert_exporter": "python",
   "pygments_lexer": "ipython3",
   "version": "3.9.13"
  }
 },
 "nbformat": 4,
 "nbformat_minor": 5
}
