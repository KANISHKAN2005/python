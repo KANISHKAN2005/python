{
 "cells": [
  {
   "cell_type": "code",
   "execution_count": 12,
   "id": "185847e4",
   "metadata": {},
   "outputs": [
    {
     "name": "stdout",
     "output_type": "stream",
     "text": [
      "enternum1:6\n"
     ]
    }
   ],
   "source": [
    "A=input(\"enternum1:\")"
   ]
  },
  {
   "cell_type": "code",
   "execution_count": 13,
   "id": "e493169c",
   "metadata": {},
   "outputs": [
    {
     "name": "stdout",
     "output_type": "stream",
     "text": [
      "enternum2:16\n"
     ]
    }
   ],
   "source": [
    "D=input(\"enternum2:\")"
   ]
  },
  {
   "cell_type": "code",
   "execution_count": 14,
   "id": "cc01464d",
   "metadata": {},
   "outputs": [
    {
     "name": "stdout",
     "output_type": "stream",
     "text": [
      " the number16 is greater than number6\n"
     ]
    }
   ],
   "source": [
    "if A>D:\n",
    "    print(f\" the number{D} is greater than number{A}\")"
   ]
  },
  {
   "cell_type": "code",
   "execution_count": 24,
   "id": "14727617",
   "metadata": {},
   "outputs": [],
   "source": [
    "if A==D:\n",
    "    print(f\"the number {A}is greater than number{D}\")\n",
    "else:\n",
    "    (f\"the number {D} is not greater than number{A}\")"
   ]
  },
  {
   "cell_type": "markdown",
   "id": "3cdea21e",
   "metadata": {},
   "source": []
  },
  {
   "cell_type": "code",
   "execution_count": 31,
   "id": "c41bfb99",
   "metadata": {},
   "outputs": [
    {
     "name": "stdout",
     "output_type": "stream",
     "text": [
      "enternum1:7\n",
      "enternum2:2\n"
     ]
    }
   ],
   "source": [
    "A=input(\"enternum1:\")\n",
    "D=input(\"enternum2:\")"
   ]
  },
  {
   "cell_type": "code",
   "execution_count": 35,
   "id": "558f3c9d",
   "metadata": {},
   "outputs": [
    {
     "name": "stdout",
     "output_type": "stream",
     "text": [
      "the number2 is divid by 7\n"
     ]
    }
   ],
   "source": [
    "if int(D)%2==0:\n",
    "    print(f\"the number{D} is divid by 7\")\n",
    "    "
   ]
  },
  {
   "cell_type": "code",
   "execution_count": null,
   "id": "d7931547",
   "metadata": {},
   "outputs": [],
   "source": []
  }
 ],
 "metadata": {
  "kernelspec": {
   "display_name": "Python 3 (ipykernel)",
   "language": "python",
   "name": "python3"
  },
  "language_info": {
   "codemirror_mode": {
    "name": "ipython",
    "version": 3
   },
   "file_extension": ".py",
   "mimetype": "text/x-python",
   "name": "python",
   "nbconvert_exporter": "python",
   "pygments_lexer": "ipython3",
   "version": "3.9.13"
  }
 },
 "nbformat": 4,
 "nbformat_minor": 5
}
