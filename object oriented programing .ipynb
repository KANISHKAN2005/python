{
 "cells": [
  {
   "cell_type": "markdown",
   "id": "9c9a1ed7",
   "metadata": {},
   "source": [
    "# understanding class syntax"
   ]
  },
  {
   "cell_type": "code",
   "execution_count": null,
   "id": "a9e2b4c5",
   "metadata": {},
   "outputs": [],
   "source": [
    "class <school_name>:\n",
    "    \n",
    "    def __init__(self,<parameter>):\n",
    "    "
   ]
  },
  {
   "cell_type": "code",
   "execution_count": 24,
   "id": "e8ffb3c0",
   "metadata": {},
   "outputs": [],
   "source": [
    "class stud:\n",
    "    def __init__(self,name,age,employed,college):\n",
    "        self.name = name\n",
    "        self.age = age\n",
    "        self.employed = employed\n",
    "        self.education = college     \n",
    "    def descp(self):\n",
    "        print(f\"the name of the student is: {self.name}.\")\n",
    "        print(f\"{self.name} is {self.age} years old.\")\n",
    "        print(f\"{self.name} is currently employed : {self.employed}.\")\n",
    "        print(f\"{self.name} is a alma mater of {self.education}.\")\n",
    "        \n",
    "    def emp_status(self):\n",
    "        start_check = input(\"are you currently emplyed? : \")\n",
    "        if start_check =='y':\n",
    "            self.employed = 'yes'\n",
    "            self.employed = input(\"where are you employed\")\n",
    "            self.salary = int(input(\"please enter your salary\"))\n",
    "            \n",
    "        else:\n",
    "            \n",
    "            self.employed = 'yes'\n",
    "            \n",
    "        def emp_disp(self):\n",
    "            print(f\" {self.name} is employed by: {self.employed}.\")\n",
    "            print(f\" {self.name} draws {self.salary} pre annum.\")\n",
    "    "
   ]
  },
  {
   "cell_type": "code",
   "execution_count": 25,
   "id": "41c2c251",
   "metadata": {},
   "outputs": [
    {
     "ename": "SyntaxError",
     "evalue": "invalid syntax (1126279138.py, line 1)",
     "output_type": "error",
     "traceback": [
      "\u001b[1;36m  Cell \u001b[1;32mIn[25], line 1\u001b[1;36m\u001b[0m\n\u001b[1;33m    <object_name> = <class_name>(<initialization value>)\u001b[0m\n\u001b[1;37m    ^\u001b[0m\n\u001b[1;31mSyntaxError\u001b[0m\u001b[1;31m:\u001b[0m invalid syntax\n"
     ]
    }
   ],
   "source": [
    "<object_name> = <class_name>(<initialization value>)"
   ]
  },
  {
   "cell_type": "code",
   "execution_count": 26,
   "id": "b03c0051",
   "metadata": {},
   "outputs": [],
   "source": [
    "coll = stud(\"kanishkan\",30,\"yes\",\"skasc\")"
   ]
  },
  {
   "cell_type": "code",
   "execution_count": 27,
   "id": "31db52cc",
   "metadata": {},
   "outputs": [
    {
     "name": "stdout",
     "output_type": "stream",
     "text": [
      "the name of the student is: kanishkan.\n",
      "kanishkan is 30 years old.\n",
      "kanishkan is currently employed : yes.\n",
      "kanishkan is a alma mater of skasc.\n"
     ]
    }
   ],
   "source": [
    "coll.descp()"
   ]
  },
  {
   "cell_type": "code",
   "execution_count": 28,
   "id": "9f8a2025",
   "metadata": {},
   "outputs": [
    {
     "name": "stdout",
     "output_type": "stream",
     "text": [
      "are you currently emplyed? : y\n",
      "where are you employedp\n",
      "please enter your salary1000\n"
     ]
    }
   ],
   "source": [
    "coll.emp_status()"
   ]
  },
  {
   "cell_type": "code",
   "execution_count": 29,
   "id": "1eabb78c",
   "metadata": {},
   "outputs": [
    {
     "ename": "NameError",
     "evalue": "name 'display_emp' is not defined",
     "output_type": "error",
     "traceback": [
      "\u001b[1;31m---------------------------------------------------------------------------\u001b[0m",
      "\u001b[1;31mNameError\u001b[0m                                 Traceback (most recent call last)",
      "Cell \u001b[1;32mIn[29], line 1\u001b[0m\n\u001b[1;32m----> 1\u001b[0m \u001b[43mdisplay_emp\u001b[49m()\n",
      "\u001b[1;31mNameError\u001b[0m: name 'display_emp' is not defined"
     ]
    }
   ],
   "source": [
    "display_emp()"
   ]
  },
  {
   "cell_type": "code",
   "execution_count": 30,
   "id": "cbf0a5c1",
   "metadata": {},
   "outputs": [
    {
     "ename": "AttributeError",
     "evalue": "'stud' object has no attribute 'display_emp'",
     "output_type": "error",
     "traceback": [
      "\u001b[1;31m---------------------------------------------------------------------------\u001b[0m",
      "\u001b[1;31mAttributeError\u001b[0m                            Traceback (most recent call last)",
      "Cell \u001b[1;32mIn[30], line 1\u001b[0m\n\u001b[1;32m----> 1\u001b[0m \u001b[43mcoll\u001b[49m\u001b[38;5;241;43m.\u001b[39;49m\u001b[43mdisplay_emp\u001b[49m()\n",
      "\u001b[1;31mAttributeError\u001b[0m: 'stud' object has no attribute 'display_emp'"
     ]
    }
   ],
   "source": [
    "coll.display_emp()"
   ]
  },
  {
   "cell_type": "markdown",
   "id": "8b2d0550",
   "metadata": {},
   "source": [
    "# inheritance"
   ]
  },
  {
   "cell_type": "code",
   "execution_count": 12,
   "id": "162bb1ac",
   "metadata": {},
   "outputs": [],
   "source": [
    "class person:\n",
    "    \n",
    "    def __init__(self,fname,lname,year,age,IDnumb):\n",
    "        self.fname = fname\n",
    "        self.lname = lname\n",
    "        self.DOByear = year\n",
    "        self.age = age\n",
    "        self.ID = IDnumb\n",
    "        \n",
    "    def disp(self):\n",
    "        print(self.fname, self.lname)\n",
    "        print(self.DOByear)\n",
    "        print(self.age)\n",
    "        print(self.ID)"
   ]
  },
  {
   "cell_type": "code",
   "execution_count": 13,
   "id": "0684a148",
   "metadata": {},
   "outputs": [],
   "source": [
    "class student(person):\n",
    "    \n",
    "    def __init__(self,fname,lname,year,age,IDnumb,college,year_study):\n",
    "        super().__init__(fname,lname,year,age,IDnumb)\n",
    "        self.college = college\n",
    "        self.year = year_study\n",
    "        \n",
    "    def stud_disp(self):\n",
    "        print(f\"{self.fname} studies in {self.college} and is in the year{self.year}.\")"
   ]
  },
  {
   "cell_type": "code",
   "execution_count": 14,
   "id": "a0d1e890",
   "metadata": {},
   "outputs": [],
   "source": [
    "stud1 = student(\"Mike\",\"Tyson\",2002,18,123654,\"XYZ\",1)"
   ]
  },
  {
   "cell_type": "code",
   "execution_count": 15,
   "id": "36ad35f3",
   "metadata": {},
   "outputs": [
    {
     "name": "stdout",
     "output_type": "stream",
     "text": [
      "Mike Tyson\n",
      "2002\n",
      "18\n",
      "123654\n"
     ]
    }
   ],
   "source": [
    "stud1.disp()"
   ]
  },
  {
   "cell_type": "code",
   "execution_count": 16,
   "id": "4e2c6bac",
   "metadata": {},
   "outputs": [
    {
     "name": "stdout",
     "output_type": "stream",
     "text": [
      "Mike studies in XYZ and is in the year1.\n"
     ]
    }
   ],
   "source": [
    "stud1.stud_disp()"
   ]
  },
  {
   "cell_type": "code",
   "execution_count": null,
   "id": "3715e2f9",
   "metadata": {},
   "outputs": [],
   "source": []
  }
 ],
 "metadata": {
  "kernelspec": {
   "display_name": "Python 3 (ipykernel)",
   "language": "python",
   "name": "python3"
  },
  "language_info": {
   "codemirror_mode": {
    "name": "ipython",
    "version": 3
   },
   "file_extension": ".py",
   "mimetype": "text/x-python",
   "name": "python",
   "nbconvert_exporter": "python",
   "pygments_lexer": "ipython3",
   "version": "3.9.13"
  }
 },
 "nbformat": 4,
 "nbformat_minor": 5
}
