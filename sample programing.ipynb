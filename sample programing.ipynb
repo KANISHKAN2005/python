{
 "cells": [
  {
   "cell_type": "code",
   "execution_count": null,
   "id": "e96fe995",
   "metadata": {},
   "outputs": [],
   "source": [
    "x=15\n",
    "x=2*x\n",
    "y=x*x\n",
    "x=y/x\n",
    "print(x,y)"
   ]
  },
  {
   "cell_type": "code",
   "execution_count": 1,
   "id": "ed38a108",
   "metadata": {},
   "outputs": [
    {
     "name": "stdout",
     "output_type": "stream",
     "text": [
      "csk won against:   rcb\n",
      "kkr won against:   mi\n"
     ]
    }
   ],
   "source": [
    "value=input(\"csk won against:   \")\n",
    "value2=input(\"kkr won against:   \")"
   ]
  },
  {
   "cell_type": "code",
   "execution_count": null,
   "id": "fcc209cc",
   "metadata": {},
   "outputs": [],
   "source": []
  },
  {
   "cell_type": "code",
   "execution_count": null,
   "id": "f136f493",
   "metadata": {},
   "outputs": [],
   "source": []
  },
  {
   "cell_type": "code",
   "execution_count": null,
   "id": "3464e488",
   "metadata": {},
   "outputs": [],
   "source": []
  },
  {
   "cell_type": "code",
   "execution_count": null,
   "id": "520f8105",
   "metadata": {},
   "outputs": [],
   "source": []
  }
 ],
 "metadata": {
  "kernelspec": {
   "display_name": "Python 3 (ipykernel)",
   "language": "python",
   "name": "python3"
  },
  "language_info": {
   "codemirror_mode": {
    "name": "ipython",
    "version": 3
   },
   "file_extension": ".py",
   "mimetype": "text/x-python",
   "name": "python",
   "nbconvert_exporter": "python",
   "pygments_lexer": "ipython3",
   "version": "3.9.13"
  }
 },
 "nbformat": 4,
 "nbformat_minor": 5
}
