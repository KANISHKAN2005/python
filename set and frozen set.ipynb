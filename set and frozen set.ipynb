{
 "cells": [
  {
   "cell_type": "code",
   "execution_count": 1,
   "id": "7d014d8f",
   "metadata": {},
   "outputs": [],
   "source": [
    "name = {4,5,9,42,\"food\",\"dress\",59,23,16}"
   ]
  },
  {
   "cell_type": "code",
   "execution_count": 5,
   "id": "4df95604",
   "metadata": {},
   "outputs": [],
   "source": [
    "D={32,56,53,27,\"cycle\",\"bike\"}"
   ]
  },
  {
   "cell_type": "code",
   "execution_count": 3,
   "id": "e701da2a",
   "metadata": {},
   "outputs": [
    {
     "data": {
      "text/plain": [
       "set"
      ]
     },
     "execution_count": 3,
     "metadata": {},
     "output_type": "execute_result"
    }
   ],
   "source": [
    "type (name)"
   ]
  },
  {
   "cell_type": "code",
   "execution_count": null,
   "id": "ae496c71",
   "metadata": {},
   "outputs": [],
   "source": []
  },
  {
   "cell_type": "code",
   "execution_count": 6,
   "id": "222c75ab",
   "metadata": {},
   "outputs": [
    {
     "data": {
      "text/plain": [
       "set"
      ]
     },
     "execution_count": 6,
     "metadata": {},
     "output_type": "execute_result"
    }
   ],
   "source": [
    "type(D)"
   ]
  },
  {
   "cell_type": "code",
   "execution_count": 7,
   "id": "d4af4b3f",
   "metadata": {},
   "outputs": [
    {
     "data": {
      "text/plain": [
       "9"
      ]
     },
     "execution_count": 7,
     "metadata": {},
     "output_type": "execute_result"
    }
   ],
   "source": [
    "len(name)"
   ]
  },
  {
   "cell_type": "code",
   "execution_count": 8,
   "id": "6d40a9f6",
   "metadata": {},
   "outputs": [
    {
     "data": {
      "text/plain": [
       "6"
      ]
     },
     "execution_count": 8,
     "metadata": {},
     "output_type": "execute_result"
    }
   ],
   "source": [
    "len(D)"
   ]
  },
  {
   "cell_type": "code",
   "execution_count": 9,
   "id": "e5f1c848",
   "metadata": {},
   "outputs": [],
   "source": [
    "G= {\"geetha\",\"mani\",\"geetha\",\"mani\"}"
   ]
  },
  {
   "cell_type": "code",
   "execution_count": 10,
   "id": "fc2ebb32",
   "metadata": {},
   "outputs": [
    {
     "data": {
      "text/plain": [
       "set"
      ]
     },
     "execution_count": 10,
     "metadata": {},
     "output_type": "execute_result"
    }
   ],
   "source": [
    "type(G)"
   ]
  },
  {
   "cell_type": "code",
   "execution_count": 11,
   "id": "d80dbb55",
   "metadata": {},
   "outputs": [
    {
     "data": {
      "text/plain": [
       "{'geetha', 'mani'}"
      ]
     },
     "execution_count": 11,
     "metadata": {},
     "output_type": "execute_result"
    }
   ],
   "source": [
    "G"
   ]
  },
  {
   "cell_type": "code",
   "execution_count": 12,
   "id": "4a7ee666",
   "metadata": {},
   "outputs": [],
   "source": [
    "name.add(\"cars\")"
   ]
  },
  {
   "cell_type": "code",
   "execution_count": 13,
   "id": "b831cafa",
   "metadata": {},
   "outputs": [
    {
     "data": {
      "text/plain": [
       "{16, 23, 4, 42, 5, 59, 9, 'cars', 'dress', 'food'}"
      ]
     },
     "execution_count": 13,
     "metadata": {},
     "output_type": "execute_result"
    }
   ],
   "source": [
    "name"
   ]
  },
  {
   "cell_type": "code",
   "execution_count": 19,
   "id": "20f790e1",
   "metadata": {},
   "outputs": [],
   "source": [
    "D.add(\"subramani\")"
   ]
  },
  {
   "cell_type": "code",
   "execution_count": 21,
   "id": "6bd3f6b0",
   "metadata": {},
   "outputs": [
    {
     "data": {
      "text/plain": [
       "{27, 32, 53, 56, 'bike', 'cycle', 'subramani'}"
      ]
     },
     "execution_count": 21,
     "metadata": {},
     "output_type": "execute_result"
    }
   ],
   "source": [
    "D"
   ]
  },
  {
   "cell_type": "markdown",
   "id": "05a29360",
   "metadata": {},
   "source": []
  },
  {
   "cell_type": "code",
   "execution_count": 22,
   "id": "2561991e",
   "metadata": {},
   "outputs": [],
   "source": [
    "name.update({\"kullammal\",\"sathana\",\"keerthana\",\"geetha\"})"
   ]
  },
  {
   "cell_type": "code",
   "execution_count": 23,
   "id": "1d8b2074",
   "metadata": {},
   "outputs": [
    {
     "data": {
      "text/plain": [
       "{16,\n",
       " 23,\n",
       " 4,\n",
       " 42,\n",
       " 5,\n",
       " 59,\n",
       " 9,\n",
       " 'cars',\n",
       " 'dress',\n",
       " 'food',\n",
       " 'geetha',\n",
       " 'keerthana',\n",
       " 'kullammal',\n",
       " 'sathana',\n",
       " 'subramani'}"
      ]
     },
     "execution_count": 23,
     "metadata": {},
     "output_type": "execute_result"
    }
   ],
   "source": [
    "name"
   ]
  },
  {
   "cell_type": "code",
   "execution_count": 24,
   "id": "907181c2",
   "metadata": {},
   "outputs": [],
   "source": [
    "D.update({14,25,68,28})"
   ]
  },
  {
   "cell_type": "code",
   "execution_count": 25,
   "id": "1068e1d8",
   "metadata": {},
   "outputs": [
    {
     "data": {
      "text/plain": [
       "{14, 25, 27, 28, 32, 53, 56, 68, 'bike', 'cycle', 'subramani'}"
      ]
     },
     "execution_count": 25,
     "metadata": {},
     "output_type": "execute_result"
    }
   ],
   "source": [
    "D"
   ]
  },
  {
   "cell_type": "code",
   "execution_count": 27,
   "id": "44d5e618",
   "metadata": {},
   "outputs": [],
   "source": [
    "name.remove(4)"
   ]
  },
  {
   "cell_type": "markdown",
   "id": "fb5d02f9",
   "metadata": {},
   "source": [
    "name"
   ]
  },
  {
   "cell_type": "code",
   "execution_count": 28,
   "id": "ac460d29",
   "metadata": {},
   "outputs": [
    {
     "data": {
      "text/plain": [
       "{16,\n",
       " 23,\n",
       " 42,\n",
       " 5,\n",
       " 59,\n",
       " 9,\n",
       " 'cars',\n",
       " 'dress',\n",
       " 'food',\n",
       " 'geetha',\n",
       " 'keerthana',\n",
       " 'kullammal',\n",
       " 'sathana',\n",
       " 'subramani'}"
      ]
     },
     "execution_count": 28,
     "metadata": {},
     "output_type": "execute_result"
    }
   ],
   "source": [
    "name"
   ]
  },
  {
   "cell_type": "code",
   "execution_count": 33,
   "id": "cf069fd4",
   "metadata": {},
   "outputs": [],
   "source": [
    "name.discard(\"geetha\")\n"
   ]
  },
  {
   "cell_type": "markdown",
   "id": "6e4686ea",
   "metadata": {},
   "source": [
    "name"
   ]
  },
  {
   "cell_type": "markdown",
   "id": "7234b70d",
   "metadata": {},
   "source": [
    "name"
   ]
  },
  {
   "cell_type": "code",
   "execution_count": 34,
   "id": "62b24a32",
   "metadata": {},
   "outputs": [
    {
     "data": {
      "text/plain": [
       "{16,\n",
       " 23,\n",
       " 42,\n",
       " 5,\n",
       " 59,\n",
       " 9,\n",
       " 'cars',\n",
       " 'dress',\n",
       " 'food',\n",
       " 'keerthana',\n",
       " 'kullammal',\n",
       " 'sathana',\n",
       " 'subramani'}"
      ]
     },
     "execution_count": 34,
     "metadata": {},
     "output_type": "execute_result"
    }
   ],
   "source": [
    "name"
   ]
  },
  {
   "cell_type": "code",
   "execution_count": 35,
   "id": "c4f52428",
   "metadata": {},
   "outputs": [
    {
     "data": {
      "text/plain": [
       "'subramani'"
      ]
     },
     "execution_count": 35,
     "metadata": {},
     "output_type": "execute_result"
    }
   ],
   "source": [
    "name.pop()\n"
   ]
  },
  {
   "cell_type": "markdown",
   "id": "250ab990",
   "metadata": {},
   "source": [
    "name"
   ]
  },
  {
   "cell_type": "code",
   "execution_count": 36,
   "id": "ae3fe7c6",
   "metadata": {},
   "outputs": [
    {
     "data": {
      "text/plain": [
       "{16,\n",
       " 23,\n",
       " 42,\n",
       " 5,\n",
       " 59,\n",
       " 9,\n",
       " 'cars',\n",
       " 'dress',\n",
       " 'food',\n",
       " 'keerthana',\n",
       " 'kullammal',\n",
       " 'sathana'}"
      ]
     },
     "execution_count": 36,
     "metadata": {},
     "output_type": "execute_result"
    }
   ],
   "source": [
    "name"
   ]
  },
  {
   "cell_type": "code",
   "execution_count": 38,
   "id": "8a79832e",
   "metadata": {},
   "outputs": [
    {
     "data": {
      "text/plain": [
       "{14,\n",
       " 16,\n",
       " 23,\n",
       " 25,\n",
       " 27,\n",
       " 28,\n",
       " 32,\n",
       " 42,\n",
       " 5,\n",
       " 53,\n",
       " 56,\n",
       " 59,\n",
       " 68,\n",
       " 9,\n",
       " 'bike',\n",
       " 'cars',\n",
       " 'cycle',\n",
       " 'dress',\n",
       " 'food',\n",
       " 'keerthana',\n",
       " 'kullammal',\n",
       " 'sathana',\n",
       " 'subramani'}"
      ]
     },
     "execution_count": 38,
     "metadata": {},
     "output_type": "execute_result"
    }
   ],
   "source": [
    "name|D"
   ]
  },
  {
   "cell_type": "code",
   "execution_count": 46,
   "id": "65e7ff22",
   "metadata": {},
   "outputs": [],
   "source": [
    "c=D|name"
   ]
  },
  {
   "cell_type": "code",
   "execution_count": 47,
   "id": "6f5b1370",
   "metadata": {},
   "outputs": [
    {
     "data": {
      "text/plain": [
       "23"
      ]
     },
     "execution_count": 47,
     "metadata": {},
     "output_type": "execute_result"
    }
   ],
   "source": [
    "len(name|D)"
   ]
  },
  {
   "cell_type": "code",
   "execution_count": 48,
   "id": "82d05950",
   "metadata": {},
   "outputs": [
    {
     "data": {
      "text/plain": [
       "set()"
      ]
     },
     "execution_count": 48,
     "metadata": {},
     "output_type": "execute_result"
    }
   ],
   "source": [
    "name&D"
   ]
  },
  {
   "cell_type": "code",
   "execution_count": 49,
   "id": "8e20ce76",
   "metadata": {},
   "outputs": [
    {
     "data": {
      "text/plain": [
       "set()"
      ]
     },
     "execution_count": 49,
     "metadata": {},
     "output_type": "execute_result"
    }
   ],
   "source": [
    "D&name"
   ]
  },
  {
   "cell_type": "code",
   "execution_count": 50,
   "id": "68ea8816",
   "metadata": {},
   "outputs": [
    {
     "data": {
      "text/plain": [
       "12"
      ]
     },
     "execution_count": 50,
     "metadata": {},
     "output_type": "execute_result"
    }
   ],
   "source": [
    "len(name)"
   ]
  },
  {
   "cell_type": "code",
   "execution_count": 51,
   "id": "44739918",
   "metadata": {},
   "outputs": [
    {
     "data": {
      "text/plain": [
       "11"
      ]
     },
     "execution_count": 51,
     "metadata": {},
     "output_type": "execute_result"
    }
   ],
   "source": [
    "len(D)"
   ]
  },
  {
   "cell_type": "code",
   "execution_count": 52,
   "id": "bb4789be",
   "metadata": {},
   "outputs": [
    {
     "data": {
      "text/plain": [
       "{14, 25, 27, 28, 32, 53, 56, 68, 'bike', 'cycle', 'subramani'}"
      ]
     },
     "execution_count": 52,
     "metadata": {},
     "output_type": "execute_result"
    }
   ],
   "source": [
    "c&D"
   ]
  },
  {
   "cell_type": "code",
   "execution_count": 54,
   "id": "8d99ce86",
   "metadata": {},
   "outputs": [
    {
     "data": {
      "text/plain": [
       "{16,\n",
       " 23,\n",
       " 42,\n",
       " 5,\n",
       " 59,\n",
       " 9,\n",
       " 'cars',\n",
       " 'dress',\n",
       " 'food',\n",
       " 'keerthana',\n",
       " 'kullammal',\n",
       " 'sathana'}"
      ]
     },
     "execution_count": 54,
     "metadata": {},
     "output_type": "execute_result"
    }
   ],
   "source": [
    "name-D"
   ]
  },
  {
   "cell_type": "code",
   "execution_count": 55,
   "id": "0f2b4c15",
   "metadata": {},
   "outputs": [
    {
     "data": {
      "text/plain": [
       "{14, 25, 27, 28, 32, 53, 56, 68, 'bike', 'cycle', 'subramani'}"
      ]
     },
     "execution_count": 55,
     "metadata": {},
     "output_type": "execute_result"
    }
   ],
   "source": [
    "D-name"
   ]
  },
  {
   "cell_type": "code",
   "execution_count": 56,
   "id": "00a6d26e",
   "metadata": {},
   "outputs": [],
   "source": [
    "mani=frozenset({5,6,2,\"kanish\",\"pavan\"})"
   ]
  },
  {
   "cell_type": "code",
   "execution_count": 58,
   "id": "3b9db30a",
   "metadata": {},
   "outputs": [],
   "source": [
    "geetha=frozenset({8,9,7,\"adhi\",\"deva\"})"
   ]
  },
  {
   "cell_type": "code",
   "execution_count": 59,
   "id": "cdaf30f7",
   "metadata": {},
   "outputs": [
    {
     "data": {
      "text/plain": [
       "frozenset"
      ]
     },
     "execution_count": 59,
     "metadata": {},
     "output_type": "execute_result"
    }
   ],
   "source": [
    "type(mani)"
   ]
  },
  {
   "cell_type": "code",
   "execution_count": 60,
   "id": "2c096171",
   "metadata": {},
   "outputs": [
    {
     "data": {
      "text/plain": [
       "frozenset"
      ]
     },
     "execution_count": 60,
     "metadata": {},
     "output_type": "execute_result"
    }
   ],
   "source": [
    "type(geetha)"
   ]
  },
  {
   "cell_type": "code",
   "execution_count": 61,
   "id": "66acdc53",
   "metadata": {},
   "outputs": [
    {
     "data": {
      "text/plain": [
       "5"
      ]
     },
     "execution_count": 61,
     "metadata": {},
     "output_type": "execute_result"
    }
   ],
   "source": [
    "len(mani)"
   ]
  },
  {
   "cell_type": "code",
   "execution_count": 62,
   "id": "65c6d75e",
   "metadata": {},
   "outputs": [
    {
     "data": {
      "text/plain": [
       "5"
      ]
     },
     "execution_count": 62,
     "metadata": {},
     "output_type": "execute_result"
    }
   ],
   "source": [
    "len(geetha)"
   ]
  },
  {
   "cell_type": "code",
   "execution_count": 64,
   "id": "b404648b",
   "metadata": {},
   "outputs": [
    {
     "data": {
      "text/plain": [
       "frozenset({2, 5, 6, 7, 8, 9, 'adhi', 'deva', 'kanish', 'pavan'})"
      ]
     },
     "execution_count": 64,
     "metadata": {},
     "output_type": "execute_result"
    }
   ],
   "source": [
    "mani|geetha"
   ]
  },
  {
   "cell_type": "code",
   "execution_count": 65,
   "id": "6deb3efa",
   "metadata": {},
   "outputs": [
    {
     "data": {
      "text/plain": [
       "frozenset({2, 5, 6, 'kanish', 'pavan'})"
      ]
     },
     "execution_count": 65,
     "metadata": {},
     "output_type": "execute_result"
    }
   ],
   "source": [
    "mani-geetha"
   ]
  },
  {
   "cell_type": "markdown",
   "id": "29b1b632",
   "metadata": {},
   "source": [
    "# dictionary variable"
   ]
  },
  {
   "cell_type": "code",
   "execution_count": 19,
   "id": "1dd03330",
   "metadata": {},
   "outputs": [],
   "source": [
    "livi={1:\"dogs\",2:\"cat\",3:\"human\",4:\"cow\"}"
   ]
  },
  {
   "cell_type": "code",
   "execution_count": 20,
   "id": "fed995e1",
   "metadata": {},
   "outputs": [],
   "source": [
    "nonlivi={\"table\":\"mate\",\"dining\":\"table\",\"keyboard\":\"mouse\"}"
   ]
  },
  {
   "cell_type": "code",
   "execution_count": 21,
   "id": "3dbda8f3",
   "metadata": {},
   "outputs": [
    {
     "data": {
      "text/plain": [
       "dict_keys([1, 2, 3, 4])"
      ]
     },
     "execution_count": 21,
     "metadata": {},
     "output_type": "execute_result"
    }
   ],
   "source": [
    "livi.keys()"
   ]
  },
  {
   "cell_type": "code",
   "execution_count": 22,
   "id": "a6fe4ff5",
   "metadata": {},
   "outputs": [
    {
     "data": {
      "text/plain": [
       "dict_keys(['table', 'dining', 'keyboard'])"
      ]
     },
     "execution_count": 22,
     "metadata": {},
     "output_type": "execute_result"
    }
   ],
   "source": [
    "nonlivi.keys()"
   ]
  },
  {
   "cell_type": "code",
   "execution_count": 23,
   "id": "1ff7441c",
   "metadata": {},
   "outputs": [
    {
     "data": {
      "text/plain": [
       "dict_items([(1, 'dogs'), (2, 'cat'), (3, 'human'), (4, 'cow')])"
      ]
     },
     "execution_count": 23,
     "metadata": {},
     "output_type": "execute_result"
    }
   ],
   "source": [
    "livi.items()"
   ]
  },
  {
   "cell_type": "code",
   "execution_count": 24,
   "id": "2a9d9eea",
   "metadata": {},
   "outputs": [
    {
     "data": {
      "text/plain": [
       "dict_items([('table', 'mate'), ('dining', 'table'), ('keyboard', 'mouse')])"
      ]
     },
     "execution_count": 24,
     "metadata": {},
     "output_type": "execute_result"
    }
   ],
   "source": [
    "nonlivi.items()"
   ]
  },
  {
   "cell_type": "code",
   "execution_count": 25,
   "id": "91151740",
   "metadata": {},
   "outputs": [
    {
     "data": {
      "text/plain": [
       "'human'"
      ]
     },
     "execution_count": 25,
     "metadata": {},
     "output_type": "execute_result"
    }
   ],
   "source": [
    "livi[3]"
   ]
  },
  {
   "cell_type": "code",
   "execution_count": 30,
   "id": "4120acc6",
   "metadata": {},
   "outputs": [
    {
     "data": {
      "text/plain": [
       "'mate'"
      ]
     },
     "execution_count": 30,
     "metadata": {},
     "output_type": "execute_result"
    }
   ],
   "source": [
    "nonlivi[\"table\"]"
   ]
  },
  {
   "cell_type": "code",
   "execution_count": 35,
   "id": "f1238ab9",
   "metadata": {},
   "outputs": [
    {
     "data": {
      "text/plain": [
       "'human'"
      ]
     },
     "execution_count": 35,
     "metadata": {},
     "output_type": "execute_result"
    }
   ],
   "source": [
    "livi[3]"
   ]
  },
  {
   "cell_type": "code",
   "execution_count": 36,
   "id": "00007641",
   "metadata": {},
   "outputs": [],
   "source": [
    "nonlivi.get(2)"
   ]
  },
  {
   "cell_type": "code",
   "execution_count": 37,
   "id": "28e5795c",
   "metadata": {},
   "outputs": [
    {
     "data": {
      "text/plain": [
       "{'table': 'mate', 'dining': 'table', 'keyboard': 'mouse'}"
      ]
     },
     "execution_count": 37,
     "metadata": {},
     "output_type": "execute_result"
    }
   ],
   "source": [
    "nonlivi"
   ]
  },
  {
   "cell_type": "code",
   "execution_count": 38,
   "id": "a5c5c3b7",
   "metadata": {},
   "outputs": [],
   "source": [
    "livi[5]=\"dragon\""
   ]
  },
  {
   "cell_type": "code",
   "execution_count": 39,
   "id": "1326d3c3",
   "metadata": {},
   "outputs": [
    {
     "data": {
      "text/plain": [
       "{1: 'dogs', 2: 'cat', 3: 'human', 4: 'cow', 5: 'dragon'}"
      ]
     },
     "execution_count": 39,
     "metadata": {},
     "output_type": "execute_result"
    }
   ],
   "source": [
    "livi"
   ]
  },
  {
   "cell_type": "code",
   "execution_count": 40,
   "id": "893a0f95",
   "metadata": {},
   "outputs": [],
   "source": [
    "nonlivi[\"adhi\"]=\"deva\""
   ]
  },
  {
   "cell_type": "code",
   "execution_count": 41,
   "id": "c3a55281",
   "metadata": {},
   "outputs": [
    {
     "data": {
      "text/plain": [
       "{'table': 'mate', 'dining': 'table', 'keyboard': 'mouse', 'adhi': 'deva'}"
      ]
     },
     "execution_count": 41,
     "metadata": {},
     "output_type": "execute_result"
    }
   ],
   "source": [
    "nonlivi"
   ]
  },
  {
   "cell_type": "markdown",
   "id": "b151d9f5",
   "metadata": {},
   "source": [
    "\n",
    "\n"
   ]
  },
  {
   "cell_type": "code",
   "execution_count": 43,
   "id": "483882c4",
   "metadata": {},
   "outputs": [
    {
     "data": {
      "text/plain": [
       "'cat'"
      ]
     },
     "execution_count": 43,
     "metadata": {},
     "output_type": "execute_result"
    }
   ],
   "source": [
    "livi.pop(2)"
   ]
  },
  {
   "cell_type": "code",
   "execution_count": 44,
   "id": "1746b47f",
   "metadata": {},
   "outputs": [
    {
     "data": {
      "text/plain": [
       "{1: 'dogs', 3: 'human', 4: 'cow', 5: 'dragon'}"
      ]
     },
     "execution_count": 44,
     "metadata": {},
     "output_type": "execute_result"
    }
   ],
   "source": [
    "livi"
   ]
  },
  {
   "cell_type": "code",
   "execution_count": 54,
   "id": "fe68beb3",
   "metadata": {},
   "outputs": [],
   "source": [
    "logo={\"frari\":1,\"honda\":2,\"tvs\":3,\"bajaj\":4}"
   ]
  },
  {
   "cell_type": "raw",
   "id": "1d661543",
   "metadata": {},
   "source": [
    "logo"
   ]
  },
  {
   "cell_type": "code",
   "execution_count": 55,
   "id": "031f5a25",
   "metadata": {},
   "outputs": [
    {
     "data": {
      "text/plain": [
       "{'frari': 1, 'honda': 2, 'tvs': 3, 'bajaj': 4}"
      ]
     },
     "execution_count": 55,
     "metadata": {},
     "output_type": "execute_result"
    }
   ],
   "source": [
    "logo"
   ]
  },
  {
   "cell_type": "code",
   "execution_count": 56,
   "id": "90aed5c3",
   "metadata": {},
   "outputs": [],
   "source": [
    "logo.clear()"
   ]
  },
  {
   "cell_type": "code",
   "execution_count": 57,
   "id": "eb857ba4",
   "metadata": {},
   "outputs": [
    {
     "data": {
      "text/plain": [
       "dict_items([])"
      ]
     },
     "execution_count": 57,
     "metadata": {},
     "output_type": "execute_result"
    }
   ],
   "source": [
    "logo.items()"
   ]
  },
  {
   "cell_type": "code",
   "execution_count": 59,
   "id": "d4a32719",
   "metadata": {},
   "outputs": [],
   "source": [
    "name={1,2,3,4,}"
   ]
  },
  {
   "cell_type": "markdown",
   "id": "501aee2d",
   "metadata": {},
   "source": []
  },
  {
   "cell_type": "code",
   "execution_count": 60,
   "id": "e6a0dda8",
   "metadata": {},
   "outputs": [
    {
     "data": {
      "text/plain": [
       "{1, 2, 3, 4}"
      ]
     },
     "execution_count": 60,
     "metadata": {},
     "output_type": "execute_result"
    }
   ],
   "source": [
    "name"
   ]
  },
  {
   "cell_type": "code",
   "execution_count": 62,
   "id": "14ba0924",
   "metadata": {},
   "outputs": [
    {
     "data": {
      "text/plain": [
       "set"
      ]
     },
     "execution_count": 62,
     "metadata": {},
     "output_type": "execute_result"
    }
   ],
   "source": [
    "type(name)"
   ]
  },
  {
   "cell_type": "code",
   "execution_count": 63,
   "id": "21f39912",
   "metadata": {},
   "outputs": [],
   "source": [
    "two=[1,2,3,4]"
   ]
  },
  {
   "cell_type": "code",
   "execution_count": 65,
   "id": "ca9eb7dc",
   "metadata": {},
   "outputs": [
    {
     "data": {
      "text/plain": [
       "list"
      ]
     },
     "execution_count": 65,
     "metadata": {},
     "output_type": "execute_result"
    }
   ],
   "source": [
    "\n",
    "type(two)"
   ]
  },
  {
   "cell_type": "code",
   "execution_count": 66,
   "id": "ac3f1f92",
   "metadata": {},
   "outputs": [],
   "source": [
    "bow=(1,2,3,4)"
   ]
  },
  {
   "cell_type": "code",
   "execution_count": 67,
   "id": "f3a311a6",
   "metadata": {},
   "outputs": [
    {
     "data": {
      "text/plain": [
       "tuple"
      ]
     },
     "execution_count": 67,
     "metadata": {},
     "output_type": "execute_result"
    }
   ],
   "source": [
    "type(bow)"
   ]
  },
  {
   "cell_type": "code",
   "execution_count": 71,
   "id": "15892302",
   "metadata": {},
   "outputs": [],
   "source": [
    "livi={1:\"dogs\",2:\"cat\",3:\"human\",4:\"cow\"}"
   ]
  },
  {
   "cell_type": "code",
   "execution_count": 72,
   "id": "6cb08731",
   "metadata": {},
   "outputs": [
    {
     "data": {
      "text/plain": [
       "{1: 'dogs', 2: 'cat', 3: 'human', 4: 'cow'}"
      ]
     },
     "execution_count": 72,
     "metadata": {},
     "output_type": "execute_result"
    }
   ],
   "source": [
    "livi"
   ]
  },
  {
   "cell_type": "code",
   "execution_count": 73,
   "id": "56f54372",
   "metadata": {},
   "outputs": [
    {
     "data": {
      "text/plain": [
       "dict"
      ]
     },
     "execution_count": 73,
     "metadata": {},
     "output_type": "execute_result"
    }
   ],
   "source": [
    "type(livi)"
   ]
  },
  {
   "cell_type": "code",
   "execution_count": null,
   "id": "c3f09458",
   "metadata": {},
   "outputs": [],
   "source": []
  }
 ],
 "metadata": {
  "kernelspec": {
   "display_name": "Python 3 (ipykernel)",
   "language": "python",
   "name": "python3"
  },
  "language_info": {
   "codemirror_mode": {
    "name": "ipython",
    "version": 3
   },
   "file_extension": ".py",
   "mimetype": "text/x-python",
   "name": "python",
   "nbconvert_exporter": "python",
   "pygments_lexer": "ipython3",
   "version": "3.9.16"
  }
 },
 "nbformat": 4,
 "nbformat_minor": 5
}
